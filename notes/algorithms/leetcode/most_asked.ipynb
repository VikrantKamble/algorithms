{
 "cells": [
  {
   "cell_type": "markdown",
   "metadata": {},
   "source": [
    "https://docs.google.com/spreadsheets/d/1hzP8j7matoUiJ15N-RhsL5Dmig8_E3aP/edit#gid=1377915986"
   ]
  },
  {
   "cell_type": "code",
   "execution_count": 2,
   "metadata": {},
   "outputs": [],
   "source": [
    "from typing import List, Optional, Dict, Tuple, Any"
   ]
  },
  {
   "cell_type": "code",
   "execution_count": 9,
   "metadata": {},
   "outputs": [],
   "source": [
    "def subarray_product(nums: List[int]) -> int:\n",
    "    \"\"\"\n",
    "    Unlike max subarray sum, where we can choose to extend the past substring\n",
    "    or start a new subarry, here we can't do that as negative sign flips the \n",
    "    product altogether. So we need to keep track of two numbers, the min product\n",
    "    ending at index i and the maximum product ending at index i. If the next \n",
    "    element is negative then the minimum product will become the maximum, and if\n",
    "    the next element is positive, the maximum product will continue to be the max.\n",
    "    \"\"\"\n",
    "    max_product = nums[0]\n",
    "    last_min, last_max = nums[0], nums[0]\n",
    "\n",
    "    for i in range(1, len(nums)):\n",
    "        prod_1 = last_min * nums[i]\n",
    "        prod_2 = last_max * nums[i]\n",
    "        last_min = min(prod_1, prod_2, nums[i])\n",
    "        last_max = max(prod_1, prod_2, nums[i])\n",
    "\n",
    "        max_product = max(max_product, last_max)\n",
    "\n",
    "    return max_product\n",
    "    "
   ]
  },
  {
   "cell_type": "code",
   "execution_count": 10,
   "metadata": {},
   "outputs": [
    {
     "data": {
      "text/plain": [
       "30"
      ]
     },
     "execution_count": 10,
     "metadata": {},
     "output_type": "execute_result"
    }
   ],
   "source": [
    "subarray_product([-5, 2, -3])"
   ]
  },
  {
   "cell_type": "code",
   "execution_count": 146,
   "metadata": {},
   "outputs": [],
   "source": [
    "def next_permutation(nums):\n",
    "    # Edge case\n",
    "    if len(nums) < 2:\n",
    "        return nums\n",
    "\n",
    "    n = len(nums)\n",
    "    j = len(nums) - 1\n",
    "\n",
    "    # Find the last peak element. Array from \n",
    "    # index j to the end is sorted in descending order.\n",
    "    while (j >= 0) and (nums[j-1] >= nums[j]):\n",
    "        j -= 1\n",
    "        \n",
    "    # If j = 0, it implies that the input array is\n",
    "    # sorted in descending order. In this case, we need\n",
    "    # to return the input but sorted in ascending order.\n",
    "    if j == 0:\n",
    "        for k in range(n // 2):\n",
    "            nums[k], nums[n - k - 1] = nums[n - k - 1], nums[k]\n",
    "    else:\n",
    "        # To find the next greater sequence, we need to \n",
    "        # replace the number right before the last peak element.\n",
    "        # Now which number to replace it by. To do this, we find \n",
    "        # the next largest number in the subarray from j (peak element) to the end.\n",
    "        to_be_replaced = nums[j - 1]\n",
    "        k = len(nums) - 1\n",
    "        while (k >= j) and (to_be_replaced >= nums[k]):\n",
    "            k -= 1\n",
    "\n",
    "        # Now swap the number with the correct next highest number.\n",
    "        nums[j-1], nums[k] = nums[k], nums[j-1]\n",
    "\n",
    "        # The sequence from index j to the end is now sorted\n",
    "        # in desending order, as we placed the `element to be replaced`\n",
    "        # in the correct position. We need to now sort the sequence from j to the end\n",
    "        # in ascending order to get the next smallest number.\n",
    "        for i in range((n - j) // 2):\n",
    "            nums[j+i], nums[n-i-1] = nums[n-i-1], nums[j+i]"
   ]
  },
  {
   "cell_type": "code",
   "execution_count": 148,
   "metadata": {},
   "outputs": [
    {
     "name": "stdout",
     "output_type": "stream",
     "text": [
      "[2, 1]\n"
     ]
    }
   ],
   "source": [
    "nums = [1, 2]\n",
    "next_permutation(nums)\n",
    "print(nums)"
   ]
  },
  {
   "cell_type": "code",
   "execution_count": 155,
   "metadata": {},
   "outputs": [],
   "source": [
    "def most_water_container(heights: List[int]) -> int:\n",
    "    max_water_content = float('-inf')\n",
    "\n",
    "    left, right = 0, len(heights) - 1\n",
    "    while left < right:\n",
    "        # Water content = width * (bar with the lower height of the two)\n",
    "        water_content = (right - left) * min(heights[left], heights[right])\n",
    "        max_water_content = max(max_water_content, water_content)\n",
    "\n",
    "        # Which pointer to update? We will be making the width smaller with\n",
    "        # the next pointer update, so the only hope for increasing the water content\n",
    "        # is to increse the minimum height. Hence we should update the pointer\n",
    "        # of the bar with the lower height of the two.\n",
    "        if heights[left] < heights[right]:\n",
    "            left += 1\n",
    "        else:\n",
    "            right -= 1\n",
    "\n",
    "    return max_water_content"
   ]
  },
  {
   "cell_type": "code",
   "execution_count": 156,
   "metadata": {},
   "outputs": [
    {
     "data": {
      "text/plain": [
       "-inf"
      ]
     },
     "execution_count": 156,
     "metadata": {},
     "output_type": "execute_result"
    }
   ],
   "source": [
    "most_water_container(heights = [1])"
   ]
  },
  {
   "cell_type": "code",
   "execution_count": null,
   "metadata": {},
   "outputs": [],
   "source": []
  }
 ],
 "metadata": {
  "kernelspec": {
   "display_name": "leetcode",
   "language": "python",
   "name": "python3"
  },
  "language_info": {
   "codemirror_mode": {
    "name": "ipython",
    "version": 3
   },
   "file_extension": ".py",
   "mimetype": "text/x-python",
   "name": "python",
   "nbconvert_exporter": "python",
   "pygments_lexer": "ipython3",
   "version": "3.10.13"
  }
 },
 "nbformat": 4,
 "nbformat_minor": 2
}
