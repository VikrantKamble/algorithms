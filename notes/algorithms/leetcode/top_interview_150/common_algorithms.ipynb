{
 "cells": [
  {
   "cell_type": "markdown",
   "metadata": {},
   "source": [
    "## Subarray sum equal to target\n",
    "\n",
    "Given an array of integers and a target:\n",
    "1. Check if any subarray sums to the target, return True in that case else return False\n",
    "2. Find the count of all possible subarrays that sum to the target\n",
    "3. Find the index pairs (i, j) of the first subarray\n",
    "4. Find the list of index pairs (i, j) of all the possible subarrays\n",
    "\n",
    "TRICK: The idea is to use *prefix sum*. If the prefix sum till a certain\n",
    "index *i* is *p* and the prefix sum till another index *j* is *p + target*, then \n",
    "we know that the subarray (i, j) sums to the target. Or vice-versa if the prefix \n",
    "sum at index *j* is *p* and prefix sum till a certain lower index *i* was *p - target*, \n",
    "then the subarray (i, j) sums to the target. To do this check, we will use a hashmap."
   ]
  },
  {
   "cell_type": "code",
   "execution_count": 1,
   "metadata": {},
   "outputs": [],
   "source": [
    "from typing import List, Tuple, Dict, Any, Optional\n",
    "from collections import defaultdict"
   ]
  },
  {
   "cell_type": "code",
   "execution_count": 2,
   "metadata": {},
   "outputs": [],
   "source": [
    "def subarray_sum_varient_1(nums: List[int], target: int) -> bool:\n",
    "    last_prefix_sum = 0\n",
    "    hashmap = set()\n",
    "\n",
    "    for i, num in enumerate(nums):\n",
    "        last_prefix_sum += num\n",
    "        if last_prefix_sum in hashmap:\n",
    "            return True\n",
    "        hashmap.add(last_prefix_sum + target)\n",
    "    return False\n",
    "\n",
    "\n",
    "def subarray_sum_varient_2(nums: List[int], target: int) -> int:\n",
    "    last_prefix_sum, count = 0, 0\n",
    "    hashmap = set()\n",
    "\n",
    "    for i, num in enumerate(nums):\n",
    "        last_prefix_sum += num\n",
    "        if last_prefix_sum in hashmap:\n",
    "            count += 1\n",
    "        hashmap.add(last_prefix_sum + target)\n",
    "    return count\n",
    "\n",
    "\n",
    "def subarray_sum_varient_3(nums: List[int], target: int) -> List[int]:\n",
    "    last_prefix_sum = 0\n",
    "    hashmap = {}\n",
    "\n",
    "    for i, num in enumerate(nums):\n",
    "        last_prefix_sum += num\n",
    "        if last_prefix_sum in hashmap:\n",
    "            return [hashmap[last_prefix_sum] + 1, i]\n",
    "        hashmap[last_prefix_sum + target] = i\n",
    "    return [-1, -1]\n",
    "    \n",
    "\n",
    "def subarray_sum_varient_4(nums: List[int], target: int) -> List[List[int]]:\n",
    "    last_prefix_sum = 0\n",
    "    hashmap = {}\n",
    "\n",
    "    all_pairs = []\n",
    "    for i, num in enumerate(nums):\n",
    "        last_prefix_sum += num\n",
    "        if last_prefix_sum in hashmap:\n",
    "            pairs = [[ele + 1, i] for ele in hashmap[last_prefix_sum]]\n",
    "            all_pairs.extend(pairs)\n",
    "\n",
    "        if last_prefix_sum + target in hashmap:\n",
    "            hashmap[last_prefix_sum + target].append(i)\n",
    "        else:\n",
    "            hashmap[last_prefix_sum + target] = [i]\n",
    "    return all_pairs"
   ]
  },
  {
   "cell_type": "code",
   "execution_count": 3,
   "metadata": {},
   "outputs": [
    {
     "name": "stdout",
     "output_type": "stream",
     "text": [
      "True\n",
      "2\n",
      "[1, 2]\n",
      "[[1, 2], [4, 4]]\n"
     ]
    }
   ],
   "source": [
    "heights = [1, 5, -2, 10, 3, 4]\n",
    "target = 3\n",
    "\n",
    "print(subarray_sum_varient_1(nums=heights, target=target))\n",
    "print(subarray_sum_varient_2(nums=heights, target=target))\n",
    "print(subarray_sum_varient_3(nums=heights, target=target))\n",
    "print(subarray_sum_varient_4(nums=heights, target=target))"
   ]
  },
  {
   "cell_type": "markdown",
   "metadata": {},
   "source": [
    "## SubMatrix sum\n",
    "\n",
    "We are given a matrix of dimensions *m x n* and a target and the goal is to return:\n",
    "1. Number of submatrices that sum to the target\n",
    "\n",
    "A brute-force approach would be to take all the possible submatrices and check \n",
    "if the sum of its elements equals the target. A submatrix can be uniquely \n",
    "represented by four elements: the coordinates of the top-left position (x1, y1)\n",
    "and the coordinates of the bottom-right position (x2, y2). And to sum the elements\n",
    "we would have to go over the (x2 - x1) * (y2 - y1) elements. Thus in total the time\n",
    "complexity is going to be $O(M^3 N^3)$.\n",
    "\n",
    "To optimize the summing of elements in a submatrix, we can make use of the prefix\n",
    "sum matrix $K$. A prefix sum at position (x, y) is the sum of all elements given by the \n",
    "region (0, 0) and (x, y). Thus the sub-matrix sum can be written as:\n",
    "\n",
    "$$sum [(x1, y1), (x2, y2)]  = K(x2, y2) - K(x1-1, y2) - K(x2, y1-1) + K(x1-1, y1-1)$$\n",
    "\n",
    "Once we have the prefix sum matrix computed, we can go over all the pairs of submatrices, \n",
    "compute the sum of its elements using the above formula in $O(1)$ time and check if it \n",
    "matches the target, bringing the time complexity down to $O(M^2 N^2)$. Using a hashmap \n",
    "for one of the indices as we did for the subarray sum, we can bring it further down to $O(M^2N)$.\n"
   ]
  },
  {
   "cell_type": "code",
   "execution_count": 4,
   "metadata": {},
   "outputs": [],
   "source": [
    "def submatrix_sum(matrix: List[List[int]], target: int) -> int:\n",
    "    m, n = len(matrix), len(matrix[0])\n",
    "\n",
    "    prefix_sum = [[0] * (n+1) for _ in range(m+1)]\n",
    "    for i in range(1, m+1):\n",
    "        for j in range(1, n+1):\n",
    "            prefix_sum[i][j] = (\n",
    "                prefix_sum[i - 1][j] +\n",
    "                prefix_sum[i][j - 1] -\n",
    "                prefix_sum[i-1][j-1] +\n",
    "                matrix[i-1][j-1]\n",
    "            )\n",
    "    \n",
    "    # Now that we have computed all prefix sums, \n",
    "    # we go through each submatrix given by top left corner (x1, y1)\n",
    "    # and bottom right corner (x2, y2) and check if the sum of elements\n",
    "    # in this matrix sum to the target; using the prefix sum computed.\n",
    "    count = 0\n",
    "    for x1 in range(1, m):\n",
    "        for x2 in range(x1, m+1):\n",
    "            for y1 in range(n):\n",
    "                for y2 in range(y1, n+1):\n",
    "                    total = (\n",
    "                        prefix_sum[x2][y2] - prefix_sum[x2][y1-1] - \n",
    "                        prefix_sum[x1-1][y2] + prefix_sum[x1-1][y1-1]\n",
    "                        )\n",
    "                    if total == target:\n",
    "                        count += 1\n",
    "\n",
    "    return count"
   ]
  },
  {
   "cell_type": "code",
   "execution_count": 5,
   "metadata": {},
   "outputs": [
    {
     "data": {
      "text/plain": [
       "1"
      ]
     },
     "execution_count": 5,
     "metadata": {},
     "output_type": "execute_result"
    }
   ],
   "source": [
    "submatrix_sum(matrix=[[1, 2], [3, 4]], target=4)"
   ]
  },
  {
   "cell_type": "code",
   "execution_count": 6,
   "metadata": {},
   "outputs": [],
   "source": [
    "def submatrix_sum(matrix: List[List[int]], target: int):\n",
    "    m, n = len(matrix), len(matrix[0])\n",
    "\n",
    "    prefix_sum = [[0] * (n+1) for _ in range(m+1)]\n",
    "    for i in range(1, m+1):\n",
    "        for j in range(1, n+1):\n",
    "            prefix_sum[i][j] = (\n",
    "                prefix_sum[i - 1][j] + \n",
    "                prefix_sum[i][j - 1] - \n",
    "                prefix_sum[i-1][j-1] +\n",
    "                matrix[i-1][j-1]\n",
    "            )\n",
    "    \n",
    "    # Now that we have computed all prefix sums, \n",
    "    # we go through each submatrix given by top left corner (x1, y1)\n",
    "    # and bottom right corner (x2, y2) and check if the sum of elements\n",
    "    # in this matrix sum to the target; using the prefix sum computed.\n",
    "    count = 0\n",
    "    \n",
    "    for x1 in range(0, m):\n",
    "        for x2 in range(x1, m+1):\n",
    "            # We will use a dictionary to map the prefix sum to the count\n",
    "            hashmap = defaultdict(int)  \n",
    "            hashmap[0] = 1\n",
    "            for y in range(1, n+1):                \n",
    "                total = prefix_sum[x2][y] - prefix_sum[x1-1][y]\n",
    "                count += hashmap[total]\n",
    "                hashmap[total + target] += 1\n",
    "\n",
    "    return count"
   ]
  },
  {
   "cell_type": "code",
   "execution_count": 7,
   "metadata": {},
   "outputs": [
    {
     "data": {
      "text/plain": [
       "2"
      ]
     },
     "execution_count": 7,
     "metadata": {},
     "output_type": "execute_result"
    }
   ],
   "source": [
    "submatrix_sum(matrix=[[1, 2], [3, 4]], target=4)"
   ]
  },
  {
   "cell_type": "markdown",
   "metadata": {},
   "source": [
    "## Kadane's algorithm\n",
    "\n",
    "Given an input array find the subarray with the maximum sum and \n",
    "1. Return the maximum sum\n",
    "2. Return the subarray with the maximum sum\n",
    "\n",
    "At compute an array *M* whose element at index *i* tells the maximum subarray that ends at the index *i*. \n",
    "Now this can depend on the previous index *i-1* as follows: either we extend the previous subarray by \n",
    "including this element at index *i*, or we start a new subarray with the solo element. The value of \n",
    "*M(i)* will be whichever is the max. The maximum subarray sum will be the max element of *M*. "
   ]
  },
  {
   "cell_type": "code",
   "execution_count": 8,
   "metadata": {},
   "outputs": [],
   "source": [
    "def max_subarray_sum_varient_1(nums: List[int]) -> int:\n",
    "    subarray_end_sum = nums[0]\n",
    "    global_max = nums[0]\n",
    "\n",
    "    for i in range(1, len(nums)):\n",
    "        subarray_end_sum = max(nums[i], subarray_end_sum + nums[i])\n",
    "        global_max = max(global_max, subarray_end_sum)\n",
    "    return global_max\n",
    "\n",
    "\n",
    "def max_subarray_sum_varient_2(nums: List[int]) -> Tuple[int, int]:\n",
    "    subarray_end_sum = [nums[0]]\n",
    "    global_max = nums[0]\n",
    "    global_max_index = 0\n",
    "\n",
    "    for j in range(1, len(nums)):\n",
    "        curr_end_sum = max(nums[j], subarray_end_sum[-1] + nums[j])\n",
    "        subarray_end_sum.append(curr_end_sum)\n",
    "\n",
    "        if curr_end_sum > global_max:\n",
    "            global_max_index = j\n",
    "            global_max = curr_end_sum\n",
    "\n",
    "    # Since we already have the index of the end of the max\n",
    "    # subarray stored in global_max_index, all we need to do to \n",
    "    # find the start index of the subarray is to traverse in the \n",
    "    # backward direction and check if it was included or not.\n",
    "    i = global_max_index\n",
    "    while subarray_end_sum[i] == global_max:\n",
    "        global_max -= nums[i]\n",
    "        i -= 1\n",
    "        \n",
    "    return i+1, global_max_index"
   ]
  },
  {
   "cell_type": "code",
   "execution_count": 9,
   "metadata": {},
   "outputs": [
    {
     "data": {
      "text/plain": [
       "(0, 0)"
      ]
     },
     "execution_count": 9,
     "metadata": {},
     "output_type": "execute_result"
    }
   ],
   "source": [
    "max_subarray_sum_varient_2([-2])"
   ]
  },
  {
   "cell_type": "markdown",
   "metadata": {},
   "source": [
    "## Largest rectangle"
   ]
  },
  {
   "cell_type": "markdown",
   "metadata": {},
   "source": [
    "Given an array of heights that can be thought as histogram, we want to find the rectangle with the largest area.\n",
    "\n",
    "<img src=\"../images/Screenshot 2024-02-25 at 1.11.03 PM.png\" width=\"300\" height=\"auto\">"
   ]
  },
  {
   "cell_type": "code",
   "execution_count": 10,
   "metadata": {},
   "outputs": [],
   "source": [
    "def max_rectangle(heights: List[int]) -> int:\n",
    "    my_stack = []\n",
    "    max_area = 0\n",
    "\n",
    "    for i, height in enumerate(heights):\n",
    "        last_index = i\n",
    "        while my_stack and my_stack[-1][0] > height:\n",
    "            pop_height, pop_index = my_stack.pop()\n",
    "            max_area = max(max_area, pop_height * (i - pop_index))\n",
    "            last_index = pop_index\n",
    "        my_stack.append((height, last_index))\n",
    "\n",
    "    for pop_height, pop_index in my_stack:\n",
    "        max_area = max(max_area, pop_height * (len(heights) - pop_index))\n",
    "\n",
    "    return max_area\n",
    "    \n"
   ]
  },
  {
   "cell_type": "code",
   "execution_count": 11,
   "metadata": {},
   "outputs": [
    {
     "data": {
      "text/plain": [
       "9"
      ]
     },
     "execution_count": 11,
     "metadata": {},
     "output_type": "execute_result"
    }
   ],
   "source": [
    "max_rectangle([1, 2, 3, 4, 5])"
   ]
  },
  {
   "cell_type": "code",
   "execution_count": 12,
   "metadata": {},
   "outputs": [],
   "source": [
    "def maximal_rectangle(matrix):\n",
    "    n_rows, n_cols = len(matrix), len(matrix[0])\n",
    "\n",
    "    last_row = [0] * n_cols\n",
    "\n",
    "    max_area = 0\n",
    "    for row in range(n_rows):\n",
    "        # For each row, we compute the heights with this row as the base.\n",
    "        this_row = []\n",
    "        for column in range(n_cols):\n",
    "            if int(matrix[row][column]) == 0:\n",
    "                this_row.append(0)\n",
    "            else:\n",
    "                this_row.append(last_row[column] + int(matrix[row][column]))\n",
    "\n",
    "        # We compute the maximal area using the max rectangle in a histogram solution.\n",
    "        max_area = max(max_area, max_rectangle(this_row))\n",
    "        last_row = this_row\n",
    "\n",
    "    return max_area\n"
   ]
  },
  {
   "cell_type": "code",
   "execution_count": 13,
   "metadata": {},
   "outputs": [
    {
     "data": {
      "text/plain": [
       "6"
      ]
     },
     "execution_count": 13,
     "metadata": {},
     "output_type": "execute_result"
    }
   ],
   "source": [
    "maximal_rectangle(matrix = [[\"1\",\"0\",\"1\",\"0\",\"0\"],[\"1\",\"0\",\"1\",\"1\",\"1\"],[\"1\",\"1\",\"1\",\"1\",\"1\"],[\"1\",\"0\",\"0\",\"1\",\"0\"]])"
   ]
  },
  {
   "cell_type": "code",
   "execution_count": 20,
   "metadata": {},
   "outputs": [],
   "source": [
    "def min_window(s: str, t: str):\n",
    "    if len(t) == 0:\n",
    "        return \"\"\n",
    "    \n",
    "    # We create a hashmap indicating what characters we need and how many.\n",
    "    hashmap_t = defaultdict(int)\n",
    "    for char in t:\n",
    "        hashmap_t[char] += 1\n",
    "\n",
    "    have, need = 0, len(hashmap_t)\n",
    "    index_range, index_length = [-1, -1], float('inf')\n",
    "    left_index = 0\n",
    "    hashmap_s = defaultdict(int)\n",
    "\n",
    "    for i, char_s in enumerate(s):\n",
    "        if char_s in hashmap_t:\n",
    "            hashmap_s[char_s] += 1\n",
    "        \n",
    "            if hashmap_s[char_s] == hashmap_t[char_s]:\n",
    "                have += 1\n",
    "\n",
    "            # We start moving the left pointer, in hope of finding \n",
    "            # a range with smaller length.\n",
    "            while have == need:\n",
    "                # Update the result\n",
    "                curr_length = i - left_index + 1\n",
    "                if curr_length < index_length:\n",
    "                    index_range = [left_index, i]\n",
    "                    index_length = curr_length\n",
    "\n",
    "                # If we stumble upon a required character, we update \n",
    "                # the count.\n",
    "                last_char = s[left_index]\n",
    "                if last_char in hashmap_t:\n",
    "                    hashmap_s[last_char] -= 1\n",
    "\n",
    "                    if hashmap_s[last_char] < hashmap_t[last_char]:\n",
    "                        have -= 1\n",
    "\n",
    "                left_index += 1\n",
    "\n",
    "    return s[index_range[0]:index_range[1]+1] if index_length != float('inf') else \"\""
   ]
  },
  {
   "cell_type": "code",
   "execution_count": 21,
   "metadata": {},
   "outputs": [
    {
     "data": {
      "text/plain": [
       "'BECODEBA'"
      ]
     },
     "execution_count": 21,
     "metadata": {},
     "output_type": "execute_result"
    }
   ],
   "source": [
    "min_window(s = \"ADOBECODEBANC\", t = \"ABBC\")"
   ]
  },
  {
   "cell_type": "code",
   "execution_count": 25,
   "metadata": {},
   "outputs": [],
   "source": [
    "class Node:\n",
    "    def __init__(self, val, left=None, right=None):\n",
    "        self.val = val\n",
    "        self.left = left\n",
    "        self.right = right"
   ]
  },
  {
   "cell_type": "code",
   "execution_count": 67,
   "metadata": {},
   "outputs": [],
   "source": [
    "def dfs_greater(root, key):\n",
    "    # We want elements bigger then the key.\n",
    "    if (root is not None):\n",
    "        if root.val < key:\n",
    "            return dfs_greater(root.right, key)\n",
    "        if root.val >= key:\n",
    "            # Then we know that the right subtree will be bigger then the key.\n",
    "            left = dfs_greater(root.left, key)\n",
    "            right = dfs_greater(root.right, key)\n",
    "            return left + right + root.val\n",
    "    return 0\n",
    "\n",
    "def dfs_smaller(root, key):\n",
    "    # We want elements smaller then the key.\n",
    "    if (root is not None):\n",
    "        if root.val <= key:\n",
    "            left = dfs_smaller(root.left, key)\n",
    "            right = dfs_smaller(root.right, key)\n",
    "            return left + right + root.val\n",
    "        if root.val >= key:\n",
    "            # Then we know that the right subtree will be bigger then the key.\n",
    "            return dfs_smaller(root.left, key)\n",
    "    return 0\n",
    "        \n",
    "\n",
    "def sum_nodes(root, left, right):\n",
    "    if root.val >= right:\n",
    "        return sum_nodes(root.left, left, right)\n",
    "    elif root.val <= left:\n",
    "        return sum_nodes(root.right, left, right)\n",
    "    else:\n",
    "        return dfs_greater(root.left, left) + dfs_smaller(root.right, right) + root.val"
   ]
  },
  {
   "cell_type": "code",
   "execution_count": 68,
   "metadata": {},
   "outputs": [],
   "source": [
    "# BST formation\n",
    "root = Node(4)\n",
    "root.left = Node(2)\n",
    "root.right = Node(6)\n",
    "root.left.left = Node(1)\n",
    "root.left.right = Node(3)\n",
    "root.right.left = Node(5)\n",
    "root.right.right = Node(7)"
   ]
  },
  {
   "cell_type": "code",
   "execution_count": 69,
   "metadata": {},
   "outputs": [
    {
     "data": {
      "text/plain": [
       "14"
      ]
     },
     "execution_count": 69,
     "metadata": {},
     "output_type": "execute_result"
    }
   ],
   "source": [
    "sum_nodes(root, 2, 5)"
   ]
  },
  {
   "cell_type": "code",
   "execution_count": 76,
   "metadata": {},
   "outputs": [],
   "source": [
    "def dfs_stack(node):\n",
    "    stack = []\n",
    "    while True:\n",
    "        while node is not None:\n",
    "            stack.append(node)\n",
    "            node = node.left\n",
    "\n",
    "        if len(stack) > 0:\n",
    "            pop_node = stack.pop()\n",
    "            print(pop_node.val)\n",
    "            node = pop_node.right\n",
    "        else:\n",
    "            break"
   ]
  },
  {
   "cell_type": "code",
   "execution_count": 77,
   "metadata": {},
   "outputs": [
    {
     "name": "stdout",
     "output_type": "stream",
     "text": [
      "1\n",
      "2\n",
      "3\n",
      "4\n",
      "5\n",
      "6\n",
      "7\n"
     ]
    }
   ],
   "source": [
    "dfs_stack(root)"
   ]
  },
  {
   "cell_type": "markdown",
   "metadata": {},
   "source": [
    "Given a string s, find the longest palindromic substring in s. You may assume that the maximum length of s is 1000"
   ]
  },
  {
   "cell_type": "code",
   "execution_count": 105,
   "metadata": {},
   "outputs": [],
   "source": [
    "def longest_palindrome_substring(s: str) -> str:\n",
    "    m = len(s)\n",
    "\n",
    "    dp_lengths = [[0] * m for _ in range(m)]\n",
    "\n",
    "    # Base case: every character is a palindrome is length 1\n",
    "    for i in range(m):\n",
    "        dp_lengths[i][i] = 1\n",
    "\n",
    "    # We want dp_lengths[0][m], where dp_length[i][j] is the length of the longest\n",
    "    # panlindrom that is contained within the indices i and j.\n",
    "    for i in range(m-2, -1, -1):\n",
    "        for j in range(i+1, m):\n",
    "            if (s[i] == s[j]) and (dp_lengths[i+1][j-1] == (j - i - 1)):\n",
    "                updated_length = 2 + dp_lengths[i+1][j-1]\n",
    "            else:\n",
    "                updated_length = dp_lengths[i+1][j-1]\n",
    "            dp_lengths[i][j] = max(dp_lengths[i+1][j], dp_lengths[i][j-1], updated_length)\n",
    "\n",
    "    # To get the substring we traverse backwards, either increasing i \n",
    "    # or decreasing j till the max length remains the same.\n",
    "    max_length = dp_lengths[0][m-1]\n",
    "\n",
    "    start, end = 0, m-1\n",
    "    while start < end:\n",
    "        if dp_lengths[start+1][end] == max_length:\n",
    "            start += 1\n",
    "        elif dp_lengths[start][end-1] == max_length:\n",
    "            end -= 1\n",
    "        else:\n",
    "            break\n",
    "\n",
    "    return s[start: end+1]\n",
    "        \n"
   ]
  },
  {
   "cell_type": "code",
   "execution_count": 106,
   "metadata": {},
   "outputs": [
    {
     "data": {
      "text/plain": [
       "'a'"
      ]
     },
     "execution_count": 106,
     "metadata": {},
     "output_type": "execute_result"
    }
   ],
   "source": [
    "longest_palindrome_substring(\"a\")"
   ]
  },
  {
   "cell_type": "markdown",
   "metadata": {},
   "source": []
  }
 ],
 "metadata": {
  "kernelspec": {
   "display_name": "Python 3 (ipykernel)",
   "language": "python",
   "name": "python3"
  },
  "language_info": {
   "codemirror_mode": {
    "name": "ipython",
    "version": 3
   },
   "file_extension": ".py",
   "mimetype": "text/x-python",
   "name": "python",
   "nbconvert_exporter": "python",
   "pygments_lexer": "ipython3",
   "version": "3.10.13"
  }
 },
 "nbformat": 4,
 "nbformat_minor": 4
}
