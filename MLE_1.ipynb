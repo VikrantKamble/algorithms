{
 "cells": [
  {
   "cell_type": "code",
   "execution_count": 10,
   "metadata": {},
   "outputs": [],
   "source": [
    "from typing import Tuple, List"
   ]
  },
  {
   "cell_type": "markdown",
   "metadata": {},
   "source": [
    "# Recursion"
   ]
  },
  {
   "cell_type": "code",
   "execution_count": 4,
   "metadata": {},
   "outputs": [],
   "source": [
    "def hanoi(n: int, start=\"a\", use=\"b\", end=\"c\"):\n",
    "    if n == 1:\n",
    "        print(f\"Move disk from {start} to {end}\")\n",
    "    else:\n",
    "        hanoi(n - 1, start=start, use=end, end=use)\n",
    "        print(f\"Move disk from {start} to {end}\")\n",
    "        hanoi(n - 1, start=use, use=start, end=end)"
   ]
  },
  {
   "cell_type": "code",
   "execution_count": 8,
   "metadata": {},
   "outputs": [
    {
     "name": "stdout",
     "output_type": "stream",
     "text": [
      "Move disk from A to B\n",
      "Move disk from A to C\n",
      "Move disk from B to C\n"
     ]
    }
   ],
   "source": [
    "hanoi(2, start=\"A\", use=\"B\", end=\"C\")"
   ]
  },
  {
   "cell_type": "markdown",
   "metadata": {},
   "source": [
    "# Dynamic programming"
   ]
  },
  {
   "cell_type": "code",
   "execution_count": 44,
   "metadata": {},
   "outputs": [],
   "source": [
    "def schedule_slots(time_slots: List[Tuple[float, float]]):\n",
    "    \"\"\" Given a list of timeslots that may be overlapping, find \n",
    "    the least number of pods required to accomodate all the slots.\n",
    "    \"\"\"\n",
    "    time_slots = sorted(time_slots, key=lambda x: x[0])\n",
    "\n",
    "    building_allotments = []\n",
    "\n",
    "    # allocate first slot\n",
    "    building_allotments.append([time_slots[0]])\n",
    "\n",
    "    for time_slot in time_slots[1:]:\n",
    "        allocated = False\n",
    "        for i, building_allotment in enumerate(building_allotments):\n",
    "            final_slot_end_time = building_allotment[-1][1]\n",
    "            if time_slot[0] > final_slot_end_time:  # meeting finished\n",
    "                allocated = True\n",
    "                allocated_index = i\n",
    "                break\n",
    "        if allocated:\n",
    "            building_allotments[allocated_index].append(time_slot)\n",
    "        else:\n",
    "            building_allotments.append([time_slot])\n",
    "    return building_allotments"
   ]
  },
  {
   "cell_type": "code",
   "execution_count": 45,
   "metadata": {},
   "outputs": [
    {
     "name": "stdout",
     "output_type": "stream",
     "text": [
      "[[(9.0, 10.5), (11.0, 12.3)], [(10.45, 12.15)], [(12.0, 13.3)]]\n"
     ]
    }
   ],
   "source": [
    "print(schedule_slots([(9.00, 10.50), (12.00, 13.30), (10.45, 12.15), (11.00, 12.30), ]))"
   ]
  },
  {
   "cell_type": "code",
   "execution_count": 46,
   "metadata": {},
   "outputs": [
    {
     "name": "stdout",
     "output_type": "stream",
     "text": [
      "[[(1, 4), (5, 10)], [(3, 7), (8, 12)], [(9, 11)]]\n"
     ]
    }
   ],
   "source": [
    "print(schedule_slots([(1, 4), (5, 10), (3, 7), (8, 12), (9, 11)]))"
   ]
  },
  {
   "cell_type": "markdown",
   "metadata": {},
   "source": [
    "# Data structures"
   ]
  },
  {
   "cell_type": "markdown",
   "metadata": {},
   "source": [
    "### Stacks"
   ]
  },
  {
   "cell_type": "code",
   "execution_count": 47,
   "metadata": {},
   "outputs": [],
   "source": [
    "class MyStack:\n",
    "    def __init__(self):\n",
    "        self.items = []\n",
    "    \n",
    "    def peek(self):\n",
    "        return self.items[-1]\n",
    "    \n",
    "    def pop(self):\n",
    "        return self.items.pop()\n",
    "    \n",
    "    def insert(self, item):\n",
    "        self.items.append(item)"
   ]
  },
  {
   "cell_type": "code",
   "execution_count": 48,
   "metadata": {},
   "outputs": [
    {
     "data": {
      "text/plain": [
       "[1, 2, 3]"
      ]
     },
     "execution_count": 48,
     "metadata": {},
     "output_type": "execute_result"
    }
   ],
   "source": [
    "my_stack = MyStack()\n",
    "\n",
    "for ele in [1, 2, 3]:\n",
    "    my_stack.insert(ele)\n",
    "\n",
    "my_stack.items"
   ]
  },
  {
   "cell_type": "markdown",
   "metadata": {},
   "source": [
    "Given a string s containing just the characters '(', ')', '{', '}', '[' and ']', determine if the input string is valid.\n",
    "\n",
    "An input string is valid if:\n",
    "\n",
    "Open brackets must be closed by the same type of brackets.\n",
    "Open brackets must be closed in the correct order.\n",
    "Every close bracket has a corresponding open bracket of the same type."
   ]
  },
  {
   "cell_type": "code",
   "execution_count": 77,
   "metadata": {},
   "outputs": [],
   "source": [
    "class Solution:\n",
    "    \n",
    "    def isValid(self, s: str) -> bool:\n",
    "        stack = []\n",
    "        mirror = {')':'(', '}':'{', ']':'['}\n",
    "\n",
    "        for char in s:\n",
    "            if (len(stack) > 0) and (char in mirror):\n",
    "                if mirror[char] == stack[-1]:\n",
    "                    stack.pop()\n",
    "                else:\n",
    "                    stack.append(char)\n",
    "            else:\n",
    "                stack.append(char)\n",
    "\n",
    "        return len(stack) == 0\n"
   ]
  },
  {
   "cell_type": "code",
   "execution_count": 341,
   "metadata": {},
   "outputs": [],
   "source": [
    "def simplify_path(path: str) -> str:\n",
    "    if path[-1] != '/':\n",
    "        path = path + \"/\"\n",
    "\n",
    "    stack = []\n",
    "\n",
    "    stack.append(path[0])\n",
    "\n",
    "    start_counting = False\n",
    "    period_count = 0\n",
    "    for char in path[1:]:\n",
    "        if (char != '/') and (char != '.'):\n",
    "            stack.append(char)\n",
    "        elif char == '/':\n",
    "            if stack[-1] == '/':\n",
    "                continue\n",
    "            elif stack[-1] == '.':\n",
    "                if start_counting is False:\n",
    "                    stack.append(char)\n",
    "                else:\n",
    "                \n",
    "                    if period_count == 2:\n",
    "                        stack.pop() # pop first dot\n",
    "                        stack.pop() # pop second dot\n",
    "\n",
    "                        if len(stack) > 1:\n",
    "                            stack.pop()\n",
    "                        if len(stack) > 1:\n",
    "                            while (stack[-1] != '/'):\n",
    "                                stack.pop()\n",
    "                    elif period_count == 1:\n",
    "                        stack.pop() # pop first dot\n",
    "                    else:\n",
    "                        stack.append(char)\n",
    "\n",
    "                    period_count = 0\n",
    "                    start_counting = False\n",
    "            else:\n",
    "                stack.append(char)\n",
    "\n",
    "        elif char == '.':\n",
    "            if stack[-1] == '/':\n",
    "                start_counting = True\n",
    "                period_count = 1\n",
    "            elif stack[-1] == '.':\n",
    "                if start_counting:\n",
    "                    period_count += 1\n",
    "            stack.append(char)\n",
    "\n",
    "    if (len(stack) > 1) and (stack[-1] == '/'):\n",
    "        stack.pop()\n",
    "    return ''.join(stack)\n",
    "\n"
   ]
  },
  {
   "cell_type": "code",
   "execution_count": 343,
   "metadata": {},
   "outputs": [
    {
     "data": {
      "text/plain": [
       "'/..ga/b/.f..d/..../e.baaeeh./.a'"
      ]
     },
     "execution_count": 343,
     "metadata": {},
     "output_type": "execute_result"
    }
   ],
   "source": [
    "simplify_path(\"/../..ga/b/.f..d/..../e.baaeeh./.a\")"
   ]
  },
  {
   "cell_type": "code",
   "execution_count": 321,
   "metadata": {},
   "outputs": [],
   "source": [
    "def join_sorted(first, second):\n",
    "    i = 0\n",
    "    j = 0\n",
    "\n",
    "    sorted_res = []\n",
    "\n",
    "    while ((i < len(first)) and (j < len(second))):\n",
    "        if first[i] < second[j]:\n",
    "            sorted_res.append(first[i])\n",
    "            i += 1\n",
    "        elif first[i] >= second[j]:\n",
    "            sorted_res.append(second[j])\n",
    "            j += 1\n",
    "\n",
    "    if i >= len(first):\n",
    "        sorted_res.extend(second[j:])\n",
    "    if j >= len(second):\n",
    "        sorted_res.extend(first[i:])\n",
    "\n",
    "    return sorted_res\n",
    "\n",
    "\n",
    "def mergesort(items):\n",
    "\n",
    "    n = len(items)\n",
    "\n",
    "    # base case\n",
    "    if n <= 1:\n",
    "        return items\n",
    "\n",
    "    ls = mergesort(items[: n // 2])\n",
    "    rs = mergesort(items[n // 2:])\n",
    "\n",
    "    # Join two sorted list of items\n",
    "    res = join_sorted(ls, rs)\n",
    "    return res"
   ]
  },
  {
   "cell_type": "code",
   "execution_count": 266,
   "metadata": {},
   "outputs": [
    {
     "data": {
      "text/plain": [
       "[1, 2, 4, 5, 8, 12]"
      ]
     },
     "execution_count": 266,
     "metadata": {},
     "output_type": "execute_result"
    }
   ],
   "source": [
    "join_sorted([1, 2, 8], [4, 5, 12])"
   ]
  },
  {
   "cell_type": "code",
   "execution_count": 271,
   "metadata": {},
   "outputs": [
    {
     "data": {
      "text/plain": [
       "[1, 2, 3, 4, 5, 7, 9, 12]"
      ]
     },
     "execution_count": 271,
     "metadata": {},
     "output_type": "execute_result"
    }
   ],
   "source": [
    "mergesort([5, 7, 1, 3, 2, 4, 9, 12])"
   ]
  },
  {
   "cell_type": "code",
   "execution_count": 346,
   "metadata": {},
   "outputs": [],
   "source": [
    "class Node:\n",
    "    def __init__(self, key):\n",
    "        self.left_child = None\n",
    "        self.right_child = None\n",
    "        self.key = key\n",
    "\n",
    "class Queue:\n",
    "    def __init__(self):\n",
    "        self.ds = []\n",
    "\n",
    "    def insert(self, node):\n",
    "        self.ds.append(node)\n",
    "\n",
    "    def remove(self):\n",
    "        return self.ds.pop(0)\n",
    "    \n",
    "    @property\n",
    "    def is_empty(self):\n",
    "        return len(self.ds) == 0"
   ]
  },
  {
   "cell_type": "code",
   "execution_count": 347,
   "metadata": {},
   "outputs": [],
   "source": [
    "root = Node(1)\n",
    "root.left_child = Node(2)\n",
    "root.right_child = Node(3)\n",
    "root.left_child.left_child = Node(4)\n",
    "root.left_child.right_child = Node(5)"
   ]
  },
  {
   "cell_type": "code",
   "execution_count": 350,
   "metadata": {},
   "outputs": [
    {
     "name": "stdout",
     "output_type": "stream",
     "text": [
      "[2, 5, 7]\n",
      "[5, 7]\n"
     ]
    }
   ],
   "source": [
    "queue = Queue()\n",
    "queue.insert(2)\n",
    "queue.insert(5)\n",
    "queue.insert(7)\n",
    "\n",
    "print(queue.ds)\n",
    "queue.remove()\n",
    "print(queue.ds)"
   ]
  },
  {
   "cell_type": "code",
   "execution_count": 357,
   "metadata": {},
   "outputs": [],
   "source": [
    "def dfs(start_node):\n",
    "    \n",
    "    if start_node.left_child is not None:\n",
    "        dfs(start_node.left_child)\n",
    "\n",
    "    print(start_node.key)\n",
    "    \n",
    "    if start_node.right_child is not None:\n",
    "        dfs(start_node.right_child)\n",
    "\n",
    "def bfs(start_node):\n",
    "    \"\"\"In-order traversal binary tree\"\"\"\n",
    "    queue = Queue()\n",
    "    queue.insert(start_node)\n",
    "\n",
    "    while not queue.is_empty:\n",
    "        node = queue.remove()\n",
    "        print(node.key)\n",
    "\n",
    "        if node.left_child is not None:\n",
    "            queue.insert(node.left_child)\n",
    "        if node.right_child is not None:\n",
    "            queue.insert(node.right_child)\n",
    "    \n",
    "    ..."
   ]
  },
  {
   "cell_type": "code",
   "execution_count": 358,
   "metadata": {},
   "outputs": [
    {
     "name": "stdout",
     "output_type": "stream",
     "text": [
      "4\n",
      "2\n",
      "5\n",
      "1\n",
      "3\n"
     ]
    }
   ],
   "source": [
    "dfs(root)"
   ]
  },
  {
   "cell_type": "code",
   "execution_count": null,
   "metadata": {},
   "outputs": [],
   "source": []
  },
  {
   "cell_type": "markdown",
   "metadata": {},
   "source": [
    "## Dynamic programming"
   ]
  },
  {
   "cell_type": "code",
   "execution_count": 457,
   "metadata": {},
   "outputs": [],
   "source": [
    "from typing import Literal\n",
    "\n",
    "\n",
    "def binary_search(items, item, on_not_found: Literal[\"low\", \"high\"]):\n",
    "    \"\"\"\n",
    "    Given a list of sorted items, check if a given item\n",
    "    exists, if not return either the closest smaller or higher.\n",
    "    \"\"\"\n",
    "    low = 0\n",
    "    high = len(items) - 1\n",
    "    \n",
    "    found = False\n",
    "    while low <= high:\n",
    "        mid = (low + high) // 2\n",
    "        \n",
    "        # Success case\n",
    "        if item == items[mid]:\n",
    "            found = True\n",
    "            return item, found, items[mid]\n",
    "        \n",
    "        # base case\n",
    "        if low == high:\n",
    "            break\n",
    "\n",
    "        # iterative case\n",
    "        if item < items[mid]:\n",
    "            high = mid\n",
    "        else:\n",
    "            low = mid + 1\n",
    "\n",
    "\n",
    "    # We always find the element higher then the given item, \n",
    "    # except for the case when the list contains only one element.\n",
    "    if on_not_found == \"low\":\n",
    "        if items[low] > item:\n",
    "            if low > 0:\n",
    "                return item, found, items[low - 1]\n",
    "        else:\n",
    "            return item, found, items[low]\n",
    "    else:\n",
    "        if items[low] > item:\n",
    "            return item, found, items[high]\n",
    "        \n",
    "    return item, found, -1\n"
   ]
  },
  {
   "cell_type": "code",
   "execution_count": 446,
   "metadata": {},
   "outputs": [
    {
     "name": "stdout",
     "output_type": "stream",
     "text": [
      "0 1 2\n",
      "0 0 1\n",
      "0 0 0\n"
     ]
    },
    {
     "data": {
      "text/plain": [
       "(-1, False, -1)"
      ]
     },
     "execution_count": 446,
     "metadata": {},
     "output_type": "execute_result"
    }
   ],
   "source": [
    "binary_search([1, 2, 5], -1, on_not_found=\"low\")"
   ]
  },
  {
   "cell_type": "code",
   "execution_count": 458,
   "metadata": {},
   "outputs": [],
   "source": [
    "\n",
    "def coin_change(coins: List[int], amount: int) -> int:\n",
    "    \"\"\"Greedy solution.\"\"\"\n",
    "    num_coins = 0\n",
    "    \n",
    "    running = True\n",
    "    while running and amount > 0:\n",
    "        _, _, change = binary_search(coins, amount, on_not_found=\"low\")\n",
    "        if change != -1:\n",
    "            print(f\"Give coin of denomination: {change}\")\n",
    "\n",
    "            # Update given coin count\n",
    "            num_coins += 1\n",
    "\n",
    "            # Update remaining amount\n",
    "            amount -= change\n",
    "            \n",
    "        else:\n",
    "            running = False\n",
    "\n",
    "    if amount != 0:\n",
    "        return -1\n",
    "    \n",
    "    return num_coins\n"
   ]
  },
  {
   "cell_type": "code",
   "execution_count": 459,
   "metadata": {},
   "outputs": [
    {
     "name": "stdout",
     "output_type": "stream",
     "text": [
      "Give coin of denomination: 5\n",
      "Give coin of denomination: 5\n",
      "Give coin of denomination: 1\n"
     ]
    },
    {
     "data": {
      "text/plain": [
       "3"
      ]
     },
     "execution_count": 459,
     "metadata": {},
     "output_type": "execute_result"
    }
   ],
   "source": [
    "coin_change([1, 2, 5], 11)"
   ]
  },
  {
   "cell_type": "code",
   "execution_count": 460,
   "metadata": {},
   "outputs": [
    {
     "data": {
      "text/plain": [
       "0"
      ]
     },
     "execution_count": 460,
     "metadata": {},
     "output_type": "execute_result"
    }
   ],
   "source": [
    "coin_change([1], 0)"
   ]
  },
  {
   "cell_type": "code",
   "execution_count": 462,
   "metadata": {},
   "outputs": [],
   "source": [
    "import numpy as np"
   ]
  },
  {
   "cell_type": "code",
   "execution_count": 512,
   "metadata": {},
   "outputs": [],
   "source": [
    "\n",
    "lookup_table = {}\n",
    "\n",
    "# Recursive solution\n",
    "def coin_change_dp(coins: List[int], amount: int) -> int:\n",
    "\n",
    "    # If present in lookup, return immediately\n",
    "    if amount in lookup_table:\n",
    "        return lookup_table[amount]\n",
    "    \n",
    "    # One base case\n",
    "    if amount == 0:\n",
    "        return 0\n",
    "    \n",
    "    # Other base case\n",
    "    if amount < coins[0]:\n",
    "        lookup_table[amount] = -1\n",
    "        return -1\n",
    "\n",
    "    # Iterate\n",
    "    impossible = False\n",
    "    min_val = float('inf')\n",
    "    for coin in coins:\n",
    "        if coin <= amount:\n",
    "            res = coin_change_dp(coins, amount - coin)\n",
    "            if res == -1:\n",
    "                impossible = True\n",
    "            else:\n",
    "                min_val = min(min_val, res)\n",
    "\n",
    "    # If possible, write to lookup table and return\n",
    "    if impossible:\n",
    "        lookup_table[amount] = -1\n",
    "    else:\n",
    "        lookup_table[amount] = 1 + min_val\n",
    "\n",
    "    return lookup_table[amount]\n",
    "\n",
    "\n"
   ]
  },
  {
   "cell_type": "code",
   "execution_count": 513,
   "metadata": {},
   "outputs": [
    {
     "data": {
      "text/plain": [
       "-1"
      ]
     },
     "execution_count": 513,
     "metadata": {},
     "output_type": "execute_result"
    }
   ],
   "source": [
    "coin_change_dp([2], 3)"
   ]
  },
  {
   "cell_type": "code",
   "execution_count": 527,
   "metadata": {},
   "outputs": [],
   "source": [
    "# Bottom up approach - iterative\n",
    "def coinChange(coins: List[int], amount: int) -> int:\n",
    "    dp = [float('inf') for i in range(amount + 1)]\n",
    "\n",
    "    # base case\n",
    "    dp[0] = 0\n",
    "\n",
    "    # Let's start filling the dp bottoms up\n",
    "    for curr_amount in range(len(dp)):\n",
    "        for coin in coins:\n",
    "            if curr_amount - coin >= 0:\n",
    "                dp[curr_amount] = min(dp[curr_amount], 1 + dp[curr_amount - coin])\n",
    "\n",
    "    return -1 if dp[-1] == float('inf') else dp[-1]\n"
   ]
  },
  {
   "cell_type": "code",
   "execution_count": 529,
   "metadata": {},
   "outputs": [
    {
     "data": {
      "text/plain": [
       "6"
      ]
     },
     "execution_count": 529,
     "metadata": {},
     "output_type": "execute_result"
    }
   ],
   "source": [
    "coinChange([1, 2, 45], 11)"
   ]
  },
  {
   "cell_type": "code",
   "execution_count": 565,
   "metadata": {},
   "outputs": [],
   "source": [
    "import math\n",
    "\n",
    "def num_squares(n: int) -> int:\n",
    "    dp = [float('inf') for i in range(n + 1)]\n",
    "    dp[0] = 0\n",
    "    \n",
    "    for num in range(len(dp)):\n",
    "        max_num = math.floor(math.sqrt(num))\n",
    "        for pick_num in range(max_num + 1):\n",
    "            # print(f\"Updating position: {num}\")\n",
    "            dp[num] = min(dp[num], 1 + dp[num - pick_num ** 2])\n",
    "    return dp[-1]"
   ]
  },
  {
   "cell_type": "code",
   "execution_count": 566,
   "metadata": {},
   "outputs": [
    {
     "name": "stdout",
     "output_type": "stream",
     "text": [
      "3\n"
     ]
    }
   ],
   "source": [
    "# print(num_squares(25))\n",
    "# print(num_squares(13))\n",
    "# print(num_squares(100))\n",
    "# print(num_squares(7))\n",
    "# print(num_squares(1))\n",
    "print(num_squares(12))"
   ]
  },
  {
   "cell_type": "code",
   "execution_count": 604,
   "metadata": {},
   "outputs": [],
   "source": [
    "n = 5\n",
    "\n",
    "\n",
    "\n",
    "def min_subarray_len(nums, target):\n",
    "    n = len(nums)\n",
    "\n",
    "    dp = np.zeros(shape=(n, n))\n",
    "\n",
    "    # fill in the base cases\n",
    "    for i in range(n):\n",
    "        dp[i, i] = nums[i]\n",
    "\n",
    "    for i in range(n):\n",
    "        if dp[i, i] == target:\n",
    "            return 1\n",
    "\n",
    "    for d in range(1, n):\n",
    "        for i in range(n-d):\n",
    "            x = i\n",
    "            y = i + d\n",
    "            dp[x, y] = dp[x+1, y] + nums[x]\n",
    "            \n",
    "            if dp[x, y] >= target:\n",
    "                return d + 1\n",
    "            \n",
    "    return 0"
   ]
  },
  {
   "cell_type": "code",
   "execution_count": 605,
   "metadata": {},
   "outputs": [
    {
     "data": {
      "text/plain": [
       "2"
      ]
     },
     "execution_count": 605,
     "metadata": {},
     "output_type": "execute_result"
    }
   ],
   "source": [
    "min_subarray_len([2, 3, 1, 4, 3], 7)"
   ]
  },
  {
   "cell_type": "code",
   "execution_count": 606,
   "metadata": {},
   "outputs": [
    {
     "data": {
      "text/plain": [
       "1"
      ]
     },
     "execution_count": 606,
     "metadata": {},
     "output_type": "execute_result"
    }
   ],
   "source": [
    "min_subarray_len([1, 4, 4], 4)"
   ]
  },
  {
   "cell_type": "code",
   "execution_count": 607,
   "metadata": {},
   "outputs": [
    {
     "data": {
      "text/plain": [
       "0"
      ]
     },
     "execution_count": 607,
     "metadata": {},
     "output_type": "execute_result"
    }
   ],
   "source": [
    "min_subarray_len([1, 1, 1, 1, 1], 7)"
   ]
  },
  {
   "cell_type": "code",
   "execution_count": 653,
   "metadata": {},
   "outputs": [],
   "source": [
    "def min_subarray_window(nums, target):\n",
    "    master = 0\n",
    "    slave = 0\n",
    "    curr_sum = 0\n",
    "\n",
    "    best = float('inf')\n",
    "\n",
    "    # start marching the slave\n",
    "    while slave < len(nums):\n",
    "        curr_sum += nums[slave]\n",
    "\n",
    "        if curr_sum >= target:\n",
    "\n",
    "            # start marching the master, \n",
    "            # we might find a shorter window.\n",
    "            while curr_sum >= target:\n",
    "                best = min(best, slave - master + 1)\n",
    "\n",
    "                curr_sum -= nums[master]\n",
    "                master += 1\n",
    "\n",
    "        slave += 1\n",
    "    return 0 if best == float('inf') else best\n",
    "\n",
    "    \n",
    "\n",
    "\n"
   ]
  },
  {
   "cell_type": "code",
   "execution_count": 654,
   "metadata": {},
   "outputs": [
    {
     "data": {
      "text/plain": [
       "2"
      ]
     },
     "execution_count": 654,
     "metadata": {},
     "output_type": "execute_result"
    }
   ],
   "source": [
    "min_subarray_window([2, 1, 3, 2, 4, 3], 7)"
   ]
  },
  {
   "cell_type": "code",
   "execution_count": 655,
   "metadata": {},
   "outputs": [
    {
     "data": {
      "text/plain": [
       "0"
      ]
     },
     "execution_count": 655,
     "metadata": {},
     "output_type": "execute_result"
    }
   ],
   "source": [
    "min_subarray_window([1, 1, 1, 1, 1], 7)"
   ]
  },
  {
   "cell_type": "code",
   "execution_count": 656,
   "metadata": {},
   "outputs": [
    {
     "data": {
      "text/plain": [
       "1"
      ]
     },
     "execution_count": 656,
     "metadata": {},
     "output_type": "execute_result"
    }
   ],
   "source": [
    "min_subarray_window([1, 4, 4], 4)"
   ]
  },
  {
   "cell_type": "code",
   "execution_count": 657,
   "metadata": {},
   "outputs": [
    {
     "data": {
      "text/plain": [
       "2"
      ]
     },
     "execution_count": 657,
     "metadata": {},
     "output_type": "execute_result"
    }
   ],
   "source": [
    "min_subarray_window([5,1,3,5,10,7,4,9,2,8], 15)"
   ]
  },
  {
   "cell_type": "code",
   "execution_count": 676,
   "metadata": {},
   "outputs": [],
   "source": [
    "def max_water(height: List[int]) -> int:\n",
    "    nums = len(height)\n",
    "\n",
    "    water_content = np.zeros(shape=(nums, nums))\n",
    "\n",
    "    # Iterative case\n",
    "    for d in range(1, nums):\n",
    "        for i in range(0, nums - d):\n",
    "            j = i + d\n",
    "\n",
    "            water = 0\n",
    "            for f in range(d):\n",
    "                k = i + f + 1\n",
    "\n",
    "                if (height[k] <= height[i]) and (height[k] <= height[j]):\n",
    "                    wc = min(height[j], height[i]) * (j - i)\n",
    "                elif (height[k] >= height[i]) and (height[k] <= height[j]):\n",
    "                    wc = height[i] * (k - i) + height[k] * (j - k)\n",
    "                elif (height[k] <= height[i]) and (height[k] >= height[j]):\n",
    "                    wc = height[k] * (k - i) + height[j] * (j - k)\n",
    "                else:\n",
    "                    wc = height[i] * (k - i) + height[j] * (j - k)\n",
    "\n",
    "                water = max(water, wc)\n",
    "\n",
    "            water_content[i, j] = water\n",
    "\n",
    "    return water_content\n",
    "\n",
    "    \n"
   ]
  },
  {
   "cell_type": "code",
   "execution_count": 678,
   "metadata": {},
   "outputs": [
    {
     "data": {
      "text/plain": [
       "array([[0., 1., 7., 5.],\n",
       "       [0., 0., 6., 8.],\n",
       "       [0., 0., 0., 2.],\n",
       "       [0., 0., 0., 0.]])"
      ]
     },
     "execution_count": 678,
     "metadata": {},
     "output_type": "execute_result"
    }
   ],
   "source": [
    "max_water([1,8,6,2])"
   ]
  },
  {
   "cell_type": "code",
   "execution_count": 714,
   "metadata": {},
   "outputs": [],
   "source": [
    "def max_area(height: List[int]) -> int:\n",
    "    left_pointer = 0\n",
    "    right_pointer = len(height) - 1\n",
    "\n",
    "    max_content = 0\n",
    "    while True:\n",
    "        curr_content = min(height[left_pointer], height[right_pointer]) * (right_pointer - left_pointer)\n",
    "        if curr_content > max_content:\n",
    "            max_content = curr_content\n",
    "\n",
    "        if height[right_pointer] >= height[left_pointer]:\n",
    "            left_pointer += 1\n",
    "        else:\n",
    "            right_pointer -= 1\n",
    "\n",
    "        if left_pointer >= right_pointer:\n",
    "            break\n",
    "    return max_content\n",
    "        \n",
    "\n"
   ]
  },
  {
   "cell_type": "code",
   "execution_count": 715,
   "metadata": {},
   "outputs": [
    {
     "data": {
      "text/plain": [
       "49"
      ]
     },
     "execution_count": 715,
     "metadata": {},
     "output_type": "execute_result"
    }
   ],
   "source": [
    "max_area([1,8,6,2,5,4,8,3,7])"
   ]
  },
  {
   "cell_type": "code",
   "execution_count": 747,
   "metadata": {},
   "outputs": [],
   "source": [
    "def remove_duplicates(nums):\n",
    "    if len(nums) == 0:\n",
    "        return 0\n",
    "    \n",
    "    replace_pos = 0\n",
    "    moving_pos = 0\n",
    "\n",
    "    count_of_ele = 0\n",
    "    element = nums[0]\n",
    "\n",
    "    while moving_pos < len(nums):\n",
    "        if nums[moving_pos] == element:\n",
    "            if count_of_ele < 2:\n",
    "                nums[moving_pos], nums[replace_pos] = nums[replace_pos], nums[moving_pos]\n",
    "                replace_pos += 1\n",
    "\n",
    "            moving_pos += 1\n",
    "            count_of_ele += 1\n",
    "\n",
    "        else:\n",
    "            element = nums[moving_pos]\n",
    "            \n",
    "            nums[moving_pos], nums[replace_pos] = nums[replace_pos], nums[moving_pos]\n",
    "\n",
    "            replace_pos += 1\n",
    "            moving_pos += 1\n",
    "            count_of_ele = 1\n",
    "            \n",
    "    return replace_pos\n",
    "\n",
    "        \n"
   ]
  },
  {
   "cell_type": "code",
   "execution_count": 748,
   "metadata": {},
   "outputs": [
    {
     "data": {
      "text/plain": [
       "7"
      ]
     },
     "execution_count": 748,
     "metadata": {},
     "output_type": "execute_result"
    }
   ],
   "source": [
    "remove_duplicates([0,0,1,1,1,1,2,3,3])"
   ]
  },
  {
   "cell_type": "code",
   "execution_count": 749,
   "metadata": {},
   "outputs": [
    {
     "data": {
      "text/plain": [
       "0"
      ]
     },
     "execution_count": 749,
     "metadata": {},
     "output_type": "execute_result"
    }
   ],
   "source": [
    "remove_duplicates([])"
   ]
  },
  {
   "cell_type": "code",
   "execution_count": 754,
   "metadata": {},
   "outputs": [],
   "source": [
    "def two_sum(numbers: List[int], target: int) -> List[int]:\n",
    "    left_pointer = 0\n",
    "    right_pointer = len(numbers) - 1\n",
    "\n",
    "    while left_pointer < right_pointer:\n",
    "        curr_sum = numbers[left_pointer] + numbers[right_pointer]\n",
    "        if curr_sum == target:\n",
    "            return [left_pointer + 1, right_pointer + 1]\n",
    "        elif curr_sum < target:\n",
    "            left_pointer += 1\n",
    "        else:\n",
    "            right_pointer -= 1"
   ]
  },
  {
   "cell_type": "code",
   "execution_count": 755,
   "metadata": {},
   "outputs": [
    {
     "data": {
      "text/plain": [
       "[1, 2]"
      ]
     },
     "execution_count": 755,
     "metadata": {},
     "output_type": "execute_result"
    }
   ],
   "source": [
    "two_sum([2, 7, 11, 15], 9)"
   ]
  },
  {
   "cell_type": "code",
   "execution_count": 756,
   "metadata": {},
   "outputs": [
    {
     "data": {
      "text/plain": [
       "[1, 3]"
      ]
     },
     "execution_count": 756,
     "metadata": {},
     "output_type": "execute_result"
    }
   ],
   "source": [
    "two_sum([2,3,4], 6)"
   ]
  },
  {
   "cell_type": "code",
   "execution_count": 757,
   "metadata": {},
   "outputs": [
    {
     "data": {
      "text/plain": [
       "[1, 2]"
      ]
     },
     "execution_count": 757,
     "metadata": {},
     "output_type": "execute_result"
    }
   ],
   "source": [
    "two_sum([-1, 0], -1)"
   ]
  },
  {
   "cell_type": "code",
   "execution_count": 257,
   "metadata": {},
   "outputs": [],
   "source": [
    "# Kth smallest element in a BST\n",
    "from typing import Optional\n",
    "\n",
    "\n",
    "class TreeNode:\n",
    "    def __init__(self, val=0, left=None, right=None):\n",
    "        self.val = val\n",
    "        self.left = left\n",
    "        self.right = right\n",
    "\n",
    "def kth_smallest(root: Optional[TreeNode], k: int) -> int:\n",
    "    count = 0\n",
    "    \n",
    "    curr_node = root\n",
    "    stack = [-1]\n",
    "\n",
    "    while len(stack) > 0:\n",
    "        if curr_node is not None:\n",
    "            stack.append(curr_node)\n",
    "            curr_node = curr_node.left\n",
    "        else:\n",
    "            \n",
    "            curr_node = stack.pop()\n",
    "\n",
    "            if curr_node == -1:\n",
    "                break\n",
    "\n",
    "            count += 1\n",
    "            if count == k:\n",
    "                return curr_node.val\n",
    "\n",
    "            curr_node = curr_node.right\n"
   ]
  },
  {
   "cell_type": "code",
   "execution_count": 778,
   "metadata": {},
   "outputs": [],
   "source": [
    "node_5 = TreeNode(5)\n",
    "node_3 = TreeNode(3)\n",
    "node_6 = TreeNode(16)\n",
    "node_2 = TreeNode(2)\n",
    "node_4 = TreeNode(4)\n",
    "node_1 = TreeNode(1)\n",
    "\n",
    "node_5.left = node_3\n",
    "node_5.right = node_6\n",
    "node_3.left = node_2\n",
    "node_3.right = node_4\n",
    "node_2.left = node_1"
   ]
  },
  {
   "cell_type": "code",
   "execution_count": 781,
   "metadata": {},
   "outputs": [],
   "source": [
    "kth_smallest(node_5, 15)"
   ]
  },
  {
   "cell_type": "code",
   "execution_count": 790,
   "metadata": {},
   "outputs": [],
   "source": [
    "def can_construct(ransom_note: str, magazine: str) -> bool:\n",
    "    hash_map = {}\n",
    "    for char in magazine:\n",
    "        if char in hash_map:\n",
    "            hash_map[char] += 1\n",
    "        else:\n",
    "            hash_map[char] = 1\n",
    "\n",
    "    for char in ransom_note:\n",
    "        if char in hash_map:\n",
    "            if hash_map[char] > 0:\n",
    "                hash_map[char] -= 1\n",
    "            else:\n",
    "                return False\n",
    "        else:\n",
    "            return False\n",
    "    return True"
   ]
  },
  {
   "cell_type": "code",
   "execution_count": 792,
   "metadata": {},
   "outputs": [
    {
     "data": {
      "text/plain": [
       "False"
      ]
     },
     "execution_count": 792,
     "metadata": {},
     "output_type": "execute_result"
    }
   ],
   "source": [
    "can_construct(\"aa\", \"ab\")"
   ]
  },
  {
   "cell_type": "code",
   "execution_count": 798,
   "metadata": {},
   "outputs": [],
   "source": [
    "def is_isomorphic(s, t) -> bool:\n",
    "    hash_map = {}\n",
    "    my_set = set()\n",
    "\n",
    "    if len(s) != len(t):\n",
    "        return False\n",
    "\n",
    "    for i in range(len(s)):\n",
    "        if s[i] not in hash_map:\n",
    "            # Check if some other has already mapped to t[i]\n",
    "            if t[i] in my_set:\n",
    "                return False\n",
    "            else:\n",
    "                my_set.add(t[i])\n",
    "            hash_map[s[i]] = t[i]\n",
    "        else:\n",
    "            hash_map_val = hash_map[s[i]]\n",
    "            if hash_map_val != t[i]:\n",
    "                return False\n",
    "    return True"
   ]
  },
  {
   "cell_type": "code",
   "execution_count": 799,
   "metadata": {},
   "outputs": [
    {
     "data": {
      "text/plain": [
       "False"
      ]
     },
     "execution_count": 799,
     "metadata": {},
     "output_type": "execute_result"
    }
   ],
   "source": [
    "is_isomorphic(\"ba\", \"aa\")"
   ]
  },
  {
   "cell_type": "code",
   "execution_count": 865,
   "metadata": {},
   "outputs": [],
   "source": [
    "def is_anagram(s: str, t: str) -> bool:\n",
    "    hash_map = {}\n",
    "\n",
    "    for ele in s:\n",
    "        if ele in hash_map:\n",
    "            hash_map[ele] += 1\n",
    "        else:\n",
    "            hash_map[ele] = 1\n",
    "\n",
    "    for ele in t:\n",
    "        if ele not in hash_map:\n",
    "            return False\n",
    "        \n",
    "        if hash_map[ele] == 0:\n",
    "            return False\n",
    "        \n",
    "        hash_map[ele] -= 1\n",
    "\n",
    "    for ele in hash_map:\n",
    "        if hash_map[ele] != 0:\n",
    "            return False\n",
    "    return True\n",
    "\n",
    "def is_anagram_sorted(s: str, t: str) -> bool:\n",
    "    s = sorted(s)\n",
    "    t = sorted(t)\n",
    "\n",
    "    return s == t"
   ]
  },
  {
   "cell_type": "code",
   "execution_count": 869,
   "metadata": {},
   "outputs": [
    {
     "data": {
      "text/plain": [
       "False"
      ]
     },
     "execution_count": 869,
     "metadata": {},
     "output_type": "execute_result"
    }
   ],
   "source": [
    "is_anagram_sorted(\"xx\", \"x\")"
   ]
  },
  {
   "cell_type": "code",
   "execution_count": 920,
   "metadata": {},
   "outputs": [],
   "source": [
    "def group_anagrams(strs: List[str]) -> List[List[str]]:\n",
    "    word_hash_map = {strs[0]: 0}\n",
    "    index_hash_map = {0: [strs[0]]}\n",
    "\n",
    "    for i, given_word in enumerate(strs[1:]):\n",
    "        anagram_exists = False\n",
    "        for word in word_hash_map:\n",
    "            if is_anagram(given_word, word):\n",
    "                index_hash_map[word_hash_map[word]].append(given_word)\n",
    "                anagram_exists = True\n",
    "                break\n",
    "\n",
    "        if not anagram_exists:\n",
    "            word_hash_map[given_word] = i+1\n",
    "            index_hash_map[i+1] = [given_word]\n",
    "\n",
    "    res = []\n",
    "    for item in index_hash_map.values():\n",
    "        res.append(item)\n",
    "\n",
    "    return res\n",
    "\n",
    "def group_anagrams_sorted(strs) -> List:\n",
    "\n",
    "    sorted_strs = [''.join(sorted(given_str)) for given_str in strs]\n",
    "    sorted_strs = sorted(zip(sorted_strs, range(len(strs))), key=lambda x: x[0])\n",
    "\n",
    "    curr = sorted_strs[0][0]  # sorted word\n",
    "    res = [[strs[sorted_strs[0][1]]]]   # actual word\n",
    "    for word, index in sorted_strs[1:]:\n",
    "        if word == curr:\n",
    "            res[-1].append(strs[index])\n",
    "        else:\n",
    "            curr = word\n",
    "            res.append([strs[index]])\n",
    "\n",
    "    return res\n",
    "\n",
    "\n",
    "def group_anagrams_vec(strs) -> List:\n",
    "    my_str = 'abcdefghijklmnopqrstuvwxyz'\n",
    "    my_dict = dict(zip(my_str, range(len(my_str))))\n",
    "\n",
    "    # Convert word to vector representation\n",
    "    vectors = []\n",
    "    for word in strs:\n",
    "        vec_repr = [0] * len(my_str)\n",
    "        for char in word:\n",
    "            vec_repr[my_dict[char]] += 1\n",
    "\n",
    "        vectors.append(str(vec_repr))\n",
    "\n",
    "    # Iterate\n",
    "    hash_map = {}\n",
    "    for i, vector in enumerate(vectors):\n",
    "        if vector in hash_map:\n",
    "            hash_map[vector].append(strs[i])\n",
    "        else:\n",
    "            hash_map[vector] = [strs[i]]\n",
    "\n",
    "    res = []\n",
    "    for values in hash_map.values():\n",
    "        res.append(values)\n",
    "\n",
    "    return res\n",
    "\n",
    "\n"
   ]
  },
  {
   "cell_type": "code",
   "execution_count": 885,
   "metadata": {},
   "outputs": [
    {
     "data": {
      "text/plain": [
       "[['eat', 'tea', 'ate'], ['tan', 'nat'], ['bat']]"
      ]
     },
     "execution_count": 885,
     "metadata": {},
     "output_type": "execute_result"
    }
   ],
   "source": [
    "group_anagrams([\"eat\",\"tea\",\"tan\",\"ate\",\"nat\",\"bat\"])"
   ]
  },
  {
   "cell_type": "code",
   "execution_count": 886,
   "metadata": {},
   "outputs": [
    {
     "data": {
      "text/plain": [
       "[['xyz', 'zyx'], ['yy']]"
      ]
     },
     "execution_count": 886,
     "metadata": {},
     "output_type": "execute_result"
    }
   ],
   "source": [
    "group_anagrams([\"xyz\", \"yy\", \"zyx\"])"
   ]
  },
  {
   "cell_type": "code",
   "execution_count": 911,
   "metadata": {},
   "outputs": [
    {
     "data": {
      "text/plain": [
       "[['bat'], ['eat', 'tea', 'ate'], ['tan', 'nat']]"
      ]
     },
     "execution_count": 911,
     "metadata": {},
     "output_type": "execute_result"
    }
   ],
   "source": [
    "group_anagrams_sorted([\"eat\",\"tea\",\"tan\",\"ate\",\"nat\",\"bat\"])"
   ]
  },
  {
   "cell_type": "code",
   "execution_count": 921,
   "metadata": {},
   "outputs": [
    {
     "data": {
      "text/plain": [
       "[['eat', 'tea', 'ate'], ['tan', 'nat'], ['bat']]"
      ]
     },
     "execution_count": 921,
     "metadata": {},
     "output_type": "execute_result"
    }
   ],
   "source": [
    "group_anagrams_vec([\"eat\",\"tea\",\"tan\",\"ate\",\"nat\",\"bat\"])"
   ]
  },
  {
   "cell_type": "code",
   "execution_count": 924,
   "metadata": {},
   "outputs": [],
   "source": [
    "def two_sum(nums: List[int], target: int) -> List[int]:\n",
    "    hash_map = {}\n",
    "\n",
    "    for i, num in enumerate(nums):\n",
    "        if num in hash_map:\n",
    "            return [i, hash_map[num]]\n",
    "        else:\n",
    "            hash_map[target - num] = i\n",
    "    return [-1, -1]"
   ]
  },
  {
   "cell_type": "code",
   "execution_count": 925,
   "metadata": {},
   "outputs": [
    {
     "data": {
      "text/plain": [
       "[-1, -1]"
      ]
     },
     "execution_count": 925,
     "metadata": {},
     "output_type": "execute_result"
    }
   ],
   "source": [
    "two_sum([2,7,11,15], 19)"
   ]
  },
  {
   "cell_type": "code",
   "execution_count": 969,
   "metadata": {},
   "outputs": [],
   "source": [
    "class Heap:\n",
    "    def __init__(self, kind=\"max\"):\n",
    "        self.kind = kind\n",
    "        self.ds = []\n",
    "\n",
    "    def push(self, ele):\n",
    "\n",
    "        # add to the last available position\n",
    "        self.ds.append(ele)\n",
    "\n",
    "        # maintain heap order if disrupted\n",
    "        given_idx = len(self.ds) - 1\n",
    "        parent_idx = (given_idx - 1) // 2\n",
    "        \n",
    "        while (given_idx > 0) and (self.ds[parent_idx] < ele):\n",
    "            self.ds[parent_idx], self.ds[given_idx] = self.ds[given_idx], self.ds[parent_idx]\n",
    "            given_idx, parent_idx = parent_idx, (parent_idx - 1) // 2\n",
    "\n",
    "    def pop(self):\n",
    "        if len(self.ds) == 1:\n",
    "            return self.ds.pop()\n",
    "        \n",
    "        # Put first element to last to be popped\n",
    "        self.ds[-1], self.ds[0] = self.ds[0], self.ds[-1]\n",
    "        to_be_returned = self.ds.pop()\n",
    "\n",
    "        running = True\n",
    "        given_idx = 0\n",
    "        while running:\n",
    "            left_idx = 2 * given_idx + 1\n",
    "            right_idx = 2 * given_idx + 2\n",
    "\n",
    "            curr_val = self.ds[given_idx]\n",
    "            left_val = float('-inf') if left_idx >= len(self.ds) else self.ds[left_idx]\n",
    "            right_val = float('-inf') if right_idx >= len(self.ds) else self.ds[right_idx]\n",
    "\n",
    "            # given idx is the biggest\n",
    "            if (curr_val >= left_val) and (curr_val >= right_val):\n",
    "                running = False\n",
    "            # left idx is the biggest\n",
    "            elif (left_val >= curr_val) and (left_val >= right_val):\n",
    "                self.ds[given_idx], self.ds[left_idx] = self.ds[left_idx], self.ds[given_idx]\n",
    "                given_idx = left_idx\n",
    "            # right idx is the biggest\n",
    "            else:\n",
    "                self.ds[given_idx], self.ds[right_idx] = self.ds[right_idx], self.ds[given_idx]\n",
    "                given_idx = right_idx\n",
    "\n",
    "        return to_be_returned\n"
   ]
  },
  {
   "cell_type": "code",
   "execution_count": 970,
   "metadata": {},
   "outputs": [
    {
     "name": "stdout",
     "output_type": "stream",
     "text": [
      "3\n"
     ]
    }
   ],
   "source": [
    "my_heap = Heap()\n",
    "\n",
    "for ele in [7,6,5,4,3,2,1]:\n",
    "    my_heap.push(ele)\n",
    "\n",
    "for k in range(5):\n",
    "    val = my_heap.pop()\n",
    "\n",
    "\n",
    "print(val)"
   ]
  },
  {
   "cell_type": "code",
   "execution_count": 932,
   "metadata": {},
   "outputs": [
    {
     "data": {
      "text/plain": [
       "[2, 12]"
      ]
     },
     "execution_count": 932,
     "metadata": {},
     "output_type": "execute_result"
    }
   ],
   "source": [
    "my_heap.ds"
   ]
  },
  {
   "cell_type": "code",
   "execution_count": 5,
   "metadata": {},
   "outputs": [],
   "source": [
    "def count_anagrams(dictionary, query):\n",
    "    hash_map = {}\n",
    "    for word in dictionary:\n",
    "        sorted_word = ''.join(sorted(word))\n",
    "        if sorted_word in hash_map:\n",
    "            hash_map[sorted_word] += 1\n",
    "        else:\n",
    "            hash_map[sorted_word] = 1\n",
    "\n",
    "    counts = []\n",
    "    for qr in query:\n",
    "        sorted_qr = ''.join(sorted(qr))\n",
    "        if sorted_qr in hash_map:\n",
    "            counts.append(hash_map[sorted_qr])\n",
    "        else:\n",
    "            counts.append(0)\n",
    "\n",
    "    return counts"
   ]
  },
  {
   "cell_type": "code",
   "execution_count": 6,
   "metadata": {},
   "outputs": [
    {
     "data": {
      "text/plain": [
       "[2, 0]"
      ]
     },
     "execution_count": 6,
     "metadata": {},
     "output_type": "execute_result"
    }
   ],
   "source": [
    "count_anagrams(['vik', 'kiv'], ['ikv', 'a'])"
   ]
  },
  {
   "cell_type": "code",
   "execution_count": 7,
   "metadata": {},
   "outputs": [],
   "source": [
    "def reverse_string(sentence):\n",
    "    words = sentence.split(' ')\n",
    "    left_ptr, right_ptr = 0, len(words) - 1 \n",
    "\n",
    "    reversed_words = []\n",
    "    while left_ptr < right_ptr:\n",
    "        words[left_ptr], words[right_ptr] = words[right_ptr], words[left_ptr]\n",
    "        left_ptr += 1\n",
    "        right_ptr -= 1\n",
    "\n",
    "    return ' '.join(words)\n"
   ]
  },
  {
   "cell_type": "code",
   "execution_count": 10,
   "metadata": {},
   "outputs": [
    {
     "data": {
      "text/plain": [
       "'test! a is This,'"
      ]
     },
     "execution_count": 10,
     "metadata": {},
     "output_type": "execute_result"
    }
   ],
   "source": [
    "reverse_string(\"This, is a test!\")"
   ]
  },
  {
   "cell_type": "code",
   "execution_count": 76,
   "metadata": {},
   "outputs": [],
   "source": [
    "def reverse_with_punctuation(sentence):\n",
    "    bag_of_words = [[]]\n",
    "    for char in sentence:\n",
    "        if char.isalpha():\n",
    "            bag_of_words[-1].append(char)\n",
    "        else:\n",
    "            if char == ' ':\n",
    "                bag_of_words.append([])\n",
    "            else:\n",
    "                bag_of_words.append([char])\n",
    "                bag_of_words.append([])\n",
    "\n",
    "    grouped_words = [''.join(group) for group in bag_of_words]\n",
    "\n",
    "    left_ptr, right_ptr = 0, len(grouped_words) - 1\n",
    "    while left_ptr < right_ptr:\n",
    "        left_word, right_word = grouped_words[left_ptr], grouped_words[right_ptr]\n",
    "\n",
    "        left_is_punctuation = (len(left_word) == 1) and (not left_word[0].isalpha())\n",
    "        right_is_punctuation = (len(right_word) == 1) and (not right_word[0].isalpha())\n",
    "\n",
    "        if left_is_punctuation and not right_is_punctuation:\n",
    "            left_ptr += 1\n",
    "        elif not left_is_punctuation and right_is_punctuation:\n",
    "            right_ptr -= 1\n",
    "        elif left_is_punctuation and right_is_punctuation:\n",
    "            left_ptr += 1\n",
    "            right_ptr -= 1\n",
    "        else:\n",
    "            grouped_words[left_ptr], grouped_words[right_ptr] = right_word, left_word\n",
    "            left_ptr += 1\n",
    "            right_ptr -= 1\n",
    "    print(' '.join(grouped_words).strip())\n"
   ]
  },
  {
   "cell_type": "code",
   "execution_count": 78,
   "metadata": {},
   "outputs": [
    {
     "name": "stdout",
     "output_type": "stream",
     "text": [
      ". test , a , is ,  ,    !    This !\n"
     ]
    }
   ],
   "source": [
    "reverse_with_punctuation(\".This,,,,  ! is a test!\")"
   ]
  },
  {
   "cell_type": "code",
   "execution_count": 79,
   "metadata": {},
   "outputs": [],
   "source": [
    "def num_subarrays(nums: list, k: int) -> int:\n",
    "    hash_map = {0: 1}\n",
    "    running_sum = 0\n",
    "    count = 0\n",
    "    for ele in nums:\n",
    "        running_sum += ele\n",
    "        complement = running_sum - k\n",
    "\n",
    "        if complement in hash_map:\n",
    "            count += hash_map[complement]\n",
    "        if running_sum in hash_map:\n",
    "            hash_map[running_sum] += 1\n",
    "        else:\n",
    "            hash_map[running_sum] = 1\n",
    "\n",
    "    return count"
   ]
  },
  {
   "cell_type": "code",
   "execution_count": 80,
   "metadata": {},
   "outputs": [
    {
     "data": {
      "text/plain": [
       "2"
      ]
     },
     "execution_count": 80,
     "metadata": {},
     "output_type": "execute_result"
    }
   ],
   "source": [
    "num_subarrays([2, 2, 2], 4)"
   ]
  },
  {
   "cell_type": "code",
   "execution_count": 81,
   "metadata": {},
   "outputs": [
    {
     "data": {
      "text/plain": [
       "1"
      ]
     },
     "execution_count": 81,
     "metadata": {},
     "output_type": "execute_result"
    }
   ],
   "source": [
    "num_subarrays([2, 2, -4, 1, 1, 2], -3)"
   ]
  },
  {
   "cell_type": "code",
   "execution_count": 96,
   "metadata": {},
   "outputs": [],
   "source": [
    "def reverseWords(s: str) -> str:\n",
    "    # Get rid of any trailing/leading spaces\n",
    "    s = s.strip()\n",
    "\n",
    "    res = [[]]\n",
    "    pos = 0\n",
    "\n",
    "    # Get rid of any redundant spaces in between\n",
    "    while pos < len(s):\n",
    "        if s[pos] == \" \":\n",
    "            if len(res[-1]) != 0:\n",
    "                res.append([])\n",
    "        else:\n",
    "            res[-1].append(s[pos])\n",
    "        pos += 1\n",
    "\n",
    "    # reverse words\n",
    "    low, high = 0, len(res) - 1\n",
    "    while low < high:\n",
    "        res[low], res[high] = res[high], res[low]\n",
    "        low += 1\n",
    "        high -= 1\n",
    "    res = ' '.join([''.join(group) for group in res])\n",
    "    return res"
   ]
  },
  {
   "cell_type": "code",
   "execution_count": 97,
   "metadata": {},
   "outputs": [
    {
     "data": {
      "text/plain": [
       "'blue is sky the'"
      ]
     },
     "execution_count": 97,
     "metadata": {},
     "output_type": "execute_result"
    }
   ],
   "source": [
    "reverseWords(\"the sky is blue\")"
   ]
  },
  {
   "cell_type": "code",
   "execution_count": 98,
   "metadata": {},
   "outputs": [
    {
     "data": {
      "text/plain": [
       "'world hello'"
      ]
     },
     "execution_count": 98,
     "metadata": {},
     "output_type": "execute_result"
    }
   ],
   "source": [
    "reverseWords(\"  hello world  \")"
   ]
  },
  {
   "cell_type": "code",
   "execution_count": 99,
   "metadata": {},
   "outputs": [
    {
     "data": {
      "text/plain": [
       "'example good a'"
      ]
     },
     "execution_count": 99,
     "metadata": {},
     "output_type": "execute_result"
    }
   ],
   "source": [
    "reverseWords(\"a good   example\")"
   ]
  },
  {
   "cell_type": "code",
   "execution_count": 101,
   "metadata": {},
   "outputs": [
    {
     "data": {
      "text/plain": [
       "'vikrant'"
      ]
     },
     "execution_count": 101,
     "metadata": {},
     "output_type": "execute_result"
    }
   ],
   "source": [
    "a = {'name': 'vikrant'}\n",
    "a.pop('name')"
   ]
  },
  {
   "cell_type": "code",
   "execution_count": 125,
   "metadata": {},
   "outputs": [],
   "source": [
    "from typing import List\n",
    "\n",
    "def max_operations(nums: List[int], k: int) -> int:\n",
    "    max_count = 0\n",
    "\n",
    "    hash_map = {}\n",
    "    for ele in nums:\n",
    "        update_complement = False\n",
    "        if ele in hash_map:\n",
    "            if hash_map[ele] > 0:\n",
    "                max_count += 1\n",
    "                hash_map[ele] -= 1\n",
    "            else:\n",
    "                update_complement = True\n",
    "        else:\n",
    "            update_complement = True\n",
    "\n",
    "        if update_complement:\n",
    "            if (k - ele) in hash_map:\n",
    "                hash_map[k - ele] += 1\n",
    "            else:\n",
    "                hash_map[k - ele] = 1\n",
    "    return max_count\n",
    "\n",
    "        "
   ]
  },
  {
   "cell_type": "code",
   "execution_count": 126,
   "metadata": {},
   "outputs": [
    {
     "data": {
      "text/plain": [
       "2"
      ]
     },
     "execution_count": 126,
     "metadata": {},
     "output_type": "execute_result"
    }
   ],
   "source": [
    "max_operations([1,2,3,4], k=5)"
   ]
  },
  {
   "cell_type": "code",
   "execution_count": 127,
   "metadata": {},
   "outputs": [
    {
     "data": {
      "text/plain": [
       "1"
      ]
     },
     "execution_count": 127,
     "metadata": {},
     "output_type": "execute_result"
    }
   ],
   "source": [
    "max_operations([3,1,3,4,3], k=6)"
   ]
  },
  {
   "cell_type": "code",
   "execution_count": 128,
   "metadata": {},
   "outputs": [
    {
     "data": {
      "text/plain": [
       "2"
      ]
     },
     "execution_count": 128,
     "metadata": {},
     "output_type": "execute_result"
    }
   ],
   "source": [
    "max_operations([4,4,1,3,1,3,2,2,5,5,1,5,2,1,2,3,5,4], k=2)"
   ]
  },
  {
   "cell_type": "code",
   "execution_count": 131,
   "metadata": {},
   "outputs": [
    {
     "data": {
      "text/plain": [
       "1"
      ]
     },
     "execution_count": 131,
     "metadata": {},
     "output_type": "execute_result"
    }
   ],
   "source": [
    "max_operations([4, 4, 4, 4, 1], k=5)"
   ]
  },
  {
   "cell_type": "code",
   "execution_count": 151,
   "metadata": {},
   "outputs": [],
   "source": [
    "def is_subsequence(s, t):\n",
    "    ptr_t = 0\n",
    "    ptr_s = 0\n",
    "    while True:\n",
    "        if ptr_s == len(s):\n",
    "            return True\n",
    "        \n",
    "        if ptr_t == len(t):\n",
    "            return False\n",
    "    \n",
    "        if t[ptr_t] == s[ptr_s]:\n",
    "            ptr_s += 1\n",
    "        ptr_t += 1\n",
    "\n",
    "\n"
   ]
  },
  {
   "cell_type": "code",
   "execution_count": 154,
   "metadata": {},
   "outputs": [
    {
     "name": "stdout",
     "output_type": "stream",
     "text": [
      "True\n",
      "False\n"
     ]
    }
   ],
   "source": [
    "print(is_subsequence(\"abc\", \"ahbgdc\"))\n",
    "print(is_subsequence(\"acx\", \"abc\"))"
   ]
  },
  {
   "cell_type": "code",
   "execution_count": 168,
   "metadata": {},
   "outputs": [],
   "source": [
    "def max_average_subarray(nums, k):\n",
    "    i = 0\n",
    "\n",
    "    running_sum = 0\n",
    "    while i < k:\n",
    "        running_sum += nums[i]\n",
    "        i += 1\n",
    "\n",
    "    max_sum = running_sum\n",
    "    while i < len(nums):\n",
    "        running_sum = running_sum - nums[i-k] + nums[i]\n",
    "        max_sum = max(running_sum, max_sum)\n",
    "        i += 1\n",
    "\n",
    "    return float(max_sum) / k\n",
    "    \n",
    "    "
   ]
  },
  {
   "cell_type": "code",
   "execution_count": 169,
   "metadata": {},
   "outputs": [
    {
     "name": "stdout",
     "output_type": "stream",
     "text": [
      "12.75\n",
      "5.0\n"
     ]
    }
   ],
   "source": [
    "print(max_average_subarray(nums = [1,12,-5,-6,50,3], k = 4))\n",
    "print(max_average_subarray(nums=[5], k=1))"
   ]
  },
  {
   "cell_type": "code",
   "execution_count": 174,
   "metadata": {},
   "outputs": [],
   "source": [
    "def max_vowels(s: str, k: int) -> int:\n",
    "    i = 0\n",
    "\n",
    "    vowel_count = 0\n",
    "    while i < k:\n",
    "        if s[i] in ['a', 'e', 'i', 'o', 'u']:\n",
    "            vowel_count += 1\n",
    "        i += 1\n",
    "\n",
    "    max_vowel_count = vowel_count\n",
    "    while i < len(s):\n",
    "        if s[i - k] in ['a', 'e', 'i', 'o', 'u']:\n",
    "            vowel_count -= 1\n",
    "        if s[i] in ['a', 'e', 'i', 'o', 'u']:\n",
    "            vowel_count += 1\n",
    "\n",
    "        max_vowel_count = max(max_vowel_count, vowel_count)\n",
    "        i += 1\n",
    "    return max_vowel_count\n",
    "\n"
   ]
  },
  {
   "cell_type": "code",
   "execution_count": 175,
   "metadata": {},
   "outputs": [
    {
     "name": "stdout",
     "output_type": "stream",
     "text": [
      "3\n"
     ]
    }
   ],
   "source": [
    "print(max_vowels(s = \"abciiidef\", k = 3))"
   ]
  },
  {
   "cell_type": "code",
   "execution_count": 245,
   "metadata": {},
   "outputs": [],
   "source": [
    "def longest_ones(nums, k):\n",
    "    max_count = 0\n",
    "\n",
    "    zero_count = 0\n",
    "    i = 0\n",
    "    j = 0\n",
    "    while j < len(nums):\n",
    "        if nums[j] == 0:\n",
    "            zero_count += 1\n",
    "\n",
    "        if zero_count <= k:\n",
    "            max_count = max(max_count, j - i + 1)\n",
    "\n",
    "        if zero_count > k:\n",
    "            while nums[i] != 0:\n",
    "                i += 1\n",
    "            zero_count -= 1\n",
    "            i += 1\n",
    "        j += 1\n",
    "    return max_count"
   ]
  },
  {
   "cell_type": "code",
   "execution_count": 246,
   "metadata": {},
   "outputs": [
    {
     "data": {
      "text/plain": [
       "6"
      ]
     },
     "execution_count": 246,
     "metadata": {},
     "output_type": "execute_result"
    }
   ],
   "source": [
    "longest_ones(nums = [1,1,1,0,0,0,1,1,1,1,0], k = 2)"
   ]
  },
  {
   "cell_type": "code",
   "execution_count": 247,
   "metadata": {},
   "outputs": [
    {
     "data": {
      "text/plain": [
       "10"
      ]
     },
     "execution_count": 247,
     "metadata": {},
     "output_type": "execute_result"
    }
   ],
   "source": [
    "longest_ones(nums = [0,0,1,1,0,0,1,1,1,0,1,1,0,0,0,1,1,1,1], k = 3)"
   ]
  },
  {
   "cell_type": "code",
   "execution_count": 254,
   "metadata": {},
   "outputs": [],
   "source": [
    "def largest_altitude(gain):\n",
    "    altitude = 0\n",
    "    max_altitude = altitude\n",
    "    for diff_altitude in gain:\n",
    "        altitude += diff_altitude\n",
    "        max_altitude = max(max_altitude, altitude)\n",
    "    return max_altitude"
   ]
  },
  {
   "cell_type": "code",
   "execution_count": 256,
   "metadata": {},
   "outputs": [
    {
     "data": {
      "text/plain": [
       "0"
      ]
     },
     "execution_count": 256,
     "metadata": {},
     "output_type": "execute_result"
    }
   ],
   "source": [
    "largest_altitude(gain =[-4,-3,-2,-1,4,3,2])"
   ]
  },
  {
   "cell_type": "code",
   "execution_count": 258,
   "metadata": {},
   "outputs": [],
   "source": [
    "def search_bst(root: Optional[TreeNode], val: int) -> Optional[TreeNode]:\n",
    "    curr_node = root\n",
    "    while curr_node is not None:\n",
    "        if curr_node.val == val:\n",
    "            return curr_node\n",
    "        elif curr_node.val < val:\n",
    "            curr_node = curr_node.right\n",
    "        else:\n",
    "            curr_node = curr_node.left\n",
    "\n",
    "    return curr_node"
   ]
  },
  {
   "cell_type": "code",
   "execution_count": 259,
   "metadata": {},
   "outputs": [],
   "source": [
    "nums = [4,2,7,1,3]\n",
    "node_nums = [TreeNode(ele) for ele in nums]\n",
    "for i, node in enumerate(node_nums):\n",
    "    left_idx = 2 * i + 1\n",
    "    right_idx = 2 * i + 2\n",
    "\n",
    "    if left_idx < len(node_nums):\n",
    "        node.left = node_nums[left_idx]\n",
    "    if right_idx < len(node_nums):\n",
    "        node.right = node_nums[right_idx]"
   ]
  },
  {
   "cell_type": "code",
   "execution_count": 286,
   "metadata": {},
   "outputs": [
    {
     "name": "stdout",
     "output_type": "stream",
     "text": [
      "5\n"
     ]
    }
   ],
   "source": [
    "res_node = search_bst(node_nums[0], 5)\n",
    "\n",
    "if res_node is None:\n",
    "    print(None)\n",
    "else:\n",
    "    print(res_node.val)"
   ]
  },
  {
   "cell_type": "code",
   "execution_count": 304,
   "metadata": {},
   "outputs": [
    {
     "data": {
      "text/plain": [
       "12"
      ]
     },
     "execution_count": 304,
     "metadata": {},
     "output_type": "execute_result"
    }
   ],
   "source": [
    "def rob(nums):\n",
    "    # base case\n",
    "    dp = [0] * (len(nums) + 1)\n",
    "    dp[-2] = nums[-1]\n",
    "\n",
    "    for j in range(len(nums) - 2, -1, -1):\n",
    "        rob_val = nums[j] + dp[j+2]\n",
    "        not_rob_val = dp[j+1]\n",
    "        dp[j] = max(rob_val, not_rob_val)\n",
    "\n",
    "    return dp[0]\n",
    "\n",
    "rob(nums = [2,7,9,3,1])"
   ]
  },
  {
   "cell_type": "code",
   "execution_count": 323,
   "metadata": {},
   "outputs": [],
   "source": [
    "def product_except_self(nums):\n",
    "    n = len(nums)\n",
    "\n",
    "    prefix = 1\n",
    "    suffix = 1\n",
    "\n",
    "    prefix_prod = []\n",
    "    suffix_prod = []\n",
    "    for i in range(n):\n",
    "        prefix *= nums[i]\n",
    "        suffix *= nums[n - i - 1]\n",
    "        prefix_prod.append(prefix)\n",
    "        suffix_prod.append(suffix)\n",
    "\n",
    "    suffix_prod = suffix_prod[::-1]\n",
    "\n",
    "    res = []\n",
    "    for i in range(n):\n",
    "        if i == 0:\n",
    "            this_val = suffix_prod[i+1]\n",
    "        elif i == n - 1:\n",
    "            this_val = prefix_prod[i-1]\n",
    "        else:\n",
    "            this_val = prefix_prod[i-1] * suffix_prod[i+1]\n",
    "        res.append(this_val)\n",
    "\n",
    "    return res"
   ]
  },
  {
   "cell_type": "code",
   "execution_count": 324,
   "metadata": {},
   "outputs": [
    {
     "data": {
      "text/plain": [
       "[0, 0, 9, 0, 0]"
      ]
     },
     "execution_count": 324,
     "metadata": {},
     "output_type": "execute_result"
    }
   ],
   "source": [
    "product_except_self(nums = [-1,1,0,-3,3])"
   ]
  },
  {
   "cell_type": "code",
   "execution_count": 332,
   "metadata": {},
   "outputs": [],
   "source": [
    "def remove_stars(s: str) -> str:\n",
    "    stack = []\n",
    "    for ele in s:\n",
    "        if (ele == '*'):\n",
    "            if (len(stack) > 0):\n",
    "                stack.pop()\n",
    "        else:\n",
    "            stack.append(ele)\n",
    "\n",
    "    return ''.join(stack)"
   ]
  },
  {
   "cell_type": "code",
   "execution_count": 333,
   "metadata": {},
   "outputs": [
    {
     "data": {
      "text/plain": [
       "'lecoe'"
      ]
     },
     "execution_count": 333,
     "metadata": {},
     "output_type": "execute_result"
    }
   ],
   "source": [
    "remove_stars(\"leet**cod*e\")"
   ]
  },
  {
   "cell_type": "code",
   "execution_count": 334,
   "metadata": {},
   "outputs": [
    {
     "data": {
      "text/plain": [
       "''"
      ]
     },
     "execution_count": 334,
     "metadata": {},
     "output_type": "execute_result"
    }
   ],
   "source": [
    "remove_stars(\"erase**********\")"
   ]
  },
  {
   "cell_type": "code",
   "execution_count": 379,
   "metadata": {},
   "outputs": [],
   "source": [
    "def asteriod_collision(asteroids: List[int]) -> List[int]:\n",
    "    stack = []\n",
    "\n",
    "    stack.append(asteroids[0])\n",
    "\n",
    "    for asteriod in asteroids[1:]:\n",
    "        stack.append(asteriod)\n",
    "\n",
    "        while len(stack) > 1:\n",
    "            # reorder the stack taking collisions into account\n",
    "            curr = stack.pop()\n",
    "            prev = stack.pop()\n",
    "\n",
    "            if (curr < 0) and (prev > 0):\n",
    "                if abs(curr) > abs(prev):\n",
    "                    stack.append(curr)\n",
    "                elif abs(curr) < abs(prev):\n",
    "                    stack.append(prev)\n",
    "            else:\n",
    "                stack.append(prev)\n",
    "                stack.append(curr)\n",
    "                break\n",
    "\n",
    "    return stack\n",
    "                "
   ]
  },
  {
   "cell_type": "code",
   "execution_count": 381,
   "metadata": {},
   "outputs": [
    {
     "data": {
      "text/plain": [
       "[10]"
      ]
     },
     "execution_count": 381,
     "metadata": {},
     "output_type": "execute_result"
    }
   ],
   "source": [
    "asteriod_collision([10, 2, -5])"
   ]
  },
  {
   "cell_type": "code",
   "execution_count": 410,
   "metadata": {},
   "outputs": [],
   "source": [
    "class ListNode:\n",
    "    def __init__(self, val=0, next=None):\n",
    "        self.val = val\n",
    "        self.next = next\n",
    "\n",
    "def delete_middle(head: Optional[ListNode]) -> Optional[ListNode]:\n",
    "    # Compute the length of the linked list\n",
    "    count = 0\n",
    "    curr = head\n",
    "    while curr is not None:\n",
    "        count += 1\n",
    "        curr = curr.next\n",
    "\n",
    "     # This is the index we want to remove\n",
    "    req_index = count // 2\n",
    "    curr_index = 1\n",
    "\n",
    "    # If the linked list consists of only one node, simply remove it\n",
    "    if req_index == 0:\n",
    "        return None\n",
    "\n",
    "    # Else walk through the list, until we reach the required index\n",
    "    # We use two pointers to keep track of a given node and its parent;\n",
    "    # since we only have a singly linked list\n",
    "    prev, curr = head, head.next\n",
    "    while True:\n",
    "        if curr_index == req_index:\n",
    "            prev.next = curr.next\n",
    "            break\n",
    "        prev, curr = curr, curr.next\n",
    "        curr_index += 1\n",
    "    return head\n",
    "            \n"
   ]
  },
  {
   "cell_type": "code",
   "execution_count": 411,
   "metadata": {},
   "outputs": [],
   "source": [
    "nums = [2]\n",
    "\n",
    "head = ListNode(nums[0])\n",
    "curr = head\n",
    "for ele in nums[1:]:\n",
    "    node = ListNode(ele)\n",
    "    curr.next = node\n",
    "    curr = curr.next"
   ]
  },
  {
   "cell_type": "code",
   "execution_count": 412,
   "metadata": {},
   "outputs": [],
   "source": [
    "res = delete_middle(head)"
   ]
  },
  {
   "cell_type": "code",
   "execution_count": 413,
   "metadata": {},
   "outputs": [],
   "source": [
    "walk = res\n",
    "while walk is not None:\n",
    "    print(walk.val)\n",
    "    walk = walk.next"
   ]
  },
  {
   "cell_type": "code",
   "execution_count": 446,
   "metadata": {},
   "outputs": [],
   "source": [
    "def compress(chars: List[str]) -> int:\n",
    "    # We keep a pointer that will serve as index\n",
    "    # where to replace the values \n",
    "    r_pos = 0\n",
    "\n",
    "    pos = 0\n",
    "    ele = chars[pos]\n",
    "    count = 1\n",
    "\n",
    "    for pos in range(1, len(chars)):\n",
    "        if chars[pos] == ele:\n",
    "            count += 1\n",
    "        else:\n",
    "\n",
    "            # Replace the values in the string\n",
    "            chars[r_pos] = ele\n",
    "            r_pos += 1\n",
    "\n",
    "            if count > 1:\n",
    "                for digit in str(count):\n",
    "                    chars[r_pos] = digit\n",
    "                    r_pos += 1\n",
    "\n",
    "            ele = chars[pos]\n",
    "            count = 1\n",
    "\n",
    "    # Take care of the last element\n",
    "    chars[r_pos] = ele\n",
    "    r_pos += 1\n",
    "\n",
    "    if count > 1:\n",
    "        for digit in str(count):\n",
    "            chars[r_pos] = digit\n",
    "            r_pos += 1\n",
    "\n",
    "    # Remove any positions not required\n",
    "    for _ in range(r_pos, len(chars)):\n",
    "        chars.pop()\n",
    "\n",
    "    return r_pos"
   ]
  },
  {
   "cell_type": "code",
   "execution_count": 448,
   "metadata": {},
   "outputs": [
    {
     "data": {
      "text/plain": [
       "6"
      ]
     },
     "execution_count": 448,
     "metadata": {},
     "output_type": "execute_result"
    }
   ],
   "source": [
    "compress([\"a\",\"a\",\"b\",\"b\",\"c\",\"c\",\"c\"])"
   ]
  },
  {
   "cell_type": "code",
   "execution_count": null,
   "metadata": {},
   "outputs": [],
   "source": []
  }
 ],
 "metadata": {
  "kernelspec": {
   "display_name": "learning",
   "language": "python",
   "name": "python3"
  },
  "language_info": {
   "codemirror_mode": {
    "name": "ipython",
    "version": 3
   },
   "file_extension": ".py",
   "mimetype": "text/x-python",
   "name": "python",
   "nbconvert_exporter": "python",
   "pygments_lexer": "ipython3",
   "version": "3.8.18"
  }
 },
 "nbformat": 4,
 "nbformat_minor": 2
}
