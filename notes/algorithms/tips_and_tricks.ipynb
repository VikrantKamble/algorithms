{
 "cells": [
  {
   "cell_type": "markdown",
   "metadata": {},
   "source": [
    "A DFS can be easily implemented as a recursive algorithm as follows:"
   ]
  },
  {
   "cell_type": "code",
   "execution_count": 4,
   "metadata": {},
   "outputs": [],
   "source": [
    "class TreeNode:\n",
    "    def __init__(self, val, left=None, right=None):\n",
    "        self.val = val\n",
    "        self.left = left\n",
    "        self.right = right\n",
    "        \n",
    "def dfs(node) -> None:\n",
    "    if node is not None:\n",
    "        print(node.val)\n",
    "        dfs(node.left)\n",
    "        dfs(node.right)"
   ]
  },
  {
   "cell_type": "markdown",
   "metadata": {},
   "source": [
    "Let's use the following tree as an example to demostrate BFS and DFS."
   ]
  },
  {
   "cell_type": "code",
   "execution_count": 87,
   "metadata": {},
   "outputs": [],
   "source": [
    "node_1 = TreeNode(21)\n",
    "node_2 = TreeNode(42)\n",
    "node_3 = TreeNode(7)\n",
    "node_4 = TreeNode(9)\n",
    "node_5 = TreeNode(17)\n",
    "node_6 = TreeNode(28)\n",
    "node_7 = TreeNode(5)\n",
    "\n",
    "node_1.left, node_1.right = node_2, node_3\n",
    "node_2.left, node_2.right = node_4, node_5\n",
    "node_3.left, node_3.right = node_6, node_7\n"
   ]
  },
  {
   "cell_type": "markdown",
   "metadata": {},
   "source": [
    "<img src=\"./example_tree.png\" alt=\"drawing\" width=\"400\"/>\n"
   ]
  },
  {
   "cell_type": "code",
   "execution_count": 88,
   "metadata": {},
   "outputs": [
    {
     "name": "stdout",
     "output_type": "stream",
     "text": [
      "21\n",
      "42\n",
      "9\n",
      "17\n",
      "7\n",
      "28\n",
      "5\n"
     ]
    }
   ],
   "source": [
    "dfs(node=node_1)"
   ]
  },
  {
   "cell_type": "markdown",
   "metadata": {},
   "source": [
    "A DFS can also be implemented using a Stack as follows:"
   ]
  },
  {
   "cell_type": "code",
   "execution_count": 89,
   "metadata": {},
   "outputs": [],
   "source": [
    "def dfs_stack(node) -> None:\n",
    "    stack = []\n",
    "\n",
    "    while True:\n",
    "        while node is not None:\n",
    "            print(node.val)\n",
    "            stack.append(node)\n",
    "            node = node.left\n",
    "\n",
    "        if len(stack) > 0:\n",
    "            node = stack.pop().right\n",
    "        else:\n",
    "            break\n",
    "        "
   ]
  },
  {
   "cell_type": "code",
   "execution_count": 90,
   "metadata": {},
   "outputs": [
    {
     "name": "stdout",
     "output_type": "stream",
     "text": [
      "21\n",
      "42\n",
      "9\n",
      "17\n",
      "7\n",
      "28\n",
      "5\n"
     ]
    }
   ],
   "source": [
    "dfs_stack(node_1)"
   ]
  },
  {
   "cell_type": "markdown",
   "metadata": {},
   "source": [
    "A DFS on a binary tree gives a *pre-order* traversal."
   ]
  },
  {
   "cell_type": "markdown",
   "metadata": {},
   "source": [
    "A BFS on the other hand can be implemented using a Queue. A BFS on a tree gives a *level-order* traversal."
   ]
  },
  {
   "cell_type": "code",
   "execution_count": 91,
   "metadata": {},
   "outputs": [],
   "source": [
    "def bfs(node: TreeNode) -> None:\n",
    "    # Here we are using the `list` data structure of python \n",
    "    # as a proxy for queue. This is not efficient as the pop\n",
    "    # operation should be O(1), while in the case of `list` it is not.\n",
    "    # A correct way to implement queue would be to use a double-linked list.\n",
    "    queue = [node]\n",
    "\n",
    "    while len(queue) > 0:\n",
    "        pop_node = queue.pop(0)\n",
    "        print(pop_node.val)\n",
    "\n",
    "        # Put all its children in the queue\n",
    "        if pop_node.left is not None:\n",
    "            queue.append(pop_node.left)\n",
    "        if pop_node.right is not None:\n",
    "            queue.append(pop_node.right)\n"
   ]
  },
  {
   "cell_type": "code",
   "execution_count": 92,
   "metadata": {},
   "outputs": [
    {
     "name": "stdout",
     "output_type": "stream",
     "text": [
      "21\n",
      "42\n",
      "7\n",
      "9\n",
      "17\n",
      "28\n",
      "5\n"
     ]
    }
   ],
   "source": [
    "bfs(node=node_1)"
   ]
  },
  {
   "cell_type": "markdown",
   "metadata": {},
   "source": [
    "When solving *Dynamic Programming* problems, it is always better to first draw the cascaded (recursive) graph to understand how \n",
    "to devise the **bottom-up** iterative solution."
   ]
  },
  {
   "cell_type": "code",
   "execution_count": 93,
   "metadata": {},
   "outputs": [],
   "source": [
    "from typing import List\n",
    "\n",
    "\n",
    "def permute(nums: List[int]) -> List[List[int]]:\n",
    "    n = len(nums)\n",
    "\n",
    "    solutions = []\n",
    "    def backtrack(position=0) -> None:\n",
    "        if position == n:\n",
    "            # We reached the leaves of the tree.\n",
    "            # We need to make a copy of the list using [:], otherwise\n",
    "            # each element in the solutions will point to the same\n",
    "            # underlying list and changing one will change the others.\n",
    "            solutions.append(nums[:])\n",
    "        else:\n",
    "            # There is room for exploration\n",
    "            for i in range(position, n):\n",
    "\n",
    "                # Put each of the possible elements in the `position`\n",
    "                nums[position], nums[i] = nums[i], nums[position]\n",
    "\n",
    "                # Recurse on the next portion\n",
    "                backtrack(position=position + 1)\n",
    "\n",
    "                # With the swap and the backtrack step listed above, the element\n",
    "                # in that was swapped to the `position` remains the same for all\n",
    "                # the sequences produced henceforth. With the swap below, we put \n",
    "                # it back into the mix and and allow some other element to take \n",
    "                # its position.\n",
    "                nums[position], nums[i] = nums[i], nums[position]\n",
    "\n",
    "    backtrack(position=0)\n",
    "    return solutions"
   ]
  },
  {
   "cell_type": "code",
   "execution_count": 94,
   "metadata": {},
   "outputs": [
    {
     "name": "stdout",
     "output_type": "stream",
     "text": [
      "[[1, 2, 3], [1, 3, 2], [2, 1, 3], [2, 3, 1], [3, 2, 1], [3, 1, 2]]\n"
     ]
    }
   ],
   "source": [
    "print(permute([1, 2, 3]))"
   ]
  },
  {
   "cell_type": "code",
   "execution_count": 111,
   "metadata": {},
   "outputs": [],
   "source": [
    "from typing import List\n",
    "\n",
    "\n",
    "def permute_stack(nums: List[int]) -> List[List[int]]:\n",
    "    solutions = []\n",
    "    \n",
    "    # Base case\n",
    "    if len(nums) == 1:\n",
    "        return [nums.copy()]\n",
    "    \n",
    "    for _ in range(len(nums)):\n",
    "        # Remove the first value\n",
    "        first = nums.pop(0)\n",
    "\n",
    "        # Get all permutations with the remaining\n",
    "        perms = permute_stack(nums)\n",
    "\n",
    "        # Add back the poped value to the end of each of the \n",
    "        # permutations. Also add it back to the original list\n",
    "        for perm in perms:\n",
    "            perm.append(first)\n",
    "        solutions.extend(perms)\n",
    "\n",
    "        nums.append(first)\n",
    "\n",
    "    return solutions"
   ]
  },
  {
   "cell_type": "code",
   "execution_count": 112,
   "metadata": {},
   "outputs": [
    {
     "data": {
      "text/plain": [
       "[[3, 2, 1], [2, 3, 1], [1, 3, 2], [3, 1, 2], [2, 1, 3], [1, 2, 3]]"
      ]
     },
     "execution_count": 112,
     "metadata": {},
     "output_type": "execute_result"
    }
   ],
   "source": [
    "permute_stack([1, 2, 3])"
   ]
  },
  {
   "cell_type": "code",
   "execution_count": 163,
   "metadata": {},
   "outputs": [],
   "source": [
    "def combination_sum(nums: List[int], target: int) -> List[List[int]]:\n",
    "    solutions = []\n",
    "\n",
    "    def backtrack(last_solution, index, total=0) -> None:\n",
    "        if total == target:\n",
    "            solutions.append(last_solution)\n",
    "            return\n",
    "\n",
    "        if (total <= target) and (index < len(nums)):\n",
    "            # In the left subtree, we include the same element\n",
    "            # an additional number of times, while in the right\n",
    "            # subtree we continue with the other set of elements\n",
    "            \n",
    "            repeated_solution = last_solution.copy()\n",
    "            repeated_solution.append(nums[index])\n",
    "\n",
    "            # We can in the recursive loop use the element at index `index`\n",
    "            backtrack(last_solution=repeated_solution, index=index, total=total+nums[index])\n",
    "\n",
    "            # We do not include another occurance of the element at index `index`\n",
    "            backtrack(last_solution=last_solution, index=index+1, total=total)\n",
    "\n",
    "    backtrack(last_solution=[], index=0, total=0)\n",
    "    return solutions"
   ]
  },
  {
   "cell_type": "code",
   "execution_count": 164,
   "metadata": {},
   "outputs": [
    {
     "data": {
      "text/plain": [
       "[[2, 2, 3], [7]]"
      ]
     },
     "execution_count": 164,
     "metadata": {},
     "output_type": "execute_result"
    }
   ],
   "source": [
    "combination_sum([2, 3, 6, 7], 7)"
   ]
  },
  {
   "cell_type": "code",
   "execution_count": 177,
   "metadata": {},
   "outputs": [],
   "source": [
    "def generate_paranthesis(n: int) -> List[int]:\n",
    "    solutions = []\n",
    "\n",
    "    # Here `c` is the number of open paranthesis and `r` is the \n",
    "    # number of pairs remaining to be made. We cannot have c > r.\n",
    "    def backtrack(last_solution, c: int, r: int) -> None:\n",
    "        # Base case: if the number of open paranthesis is greater than the \n",
    "        # number of pairs we can make then there is no hope\n",
    "        if c > r:\n",
    "            return\n",
    "        \n",
    "        # No more pairs to be made.\n",
    "        if r == 0:\n",
    "            solutions.append(''.join(last_solution))\n",
    "            return\n",
    "\n",
    "        # Here we open a new paranthesis\n",
    "        new_solution = last_solution.copy()\n",
    "        new_solution.append('(')\n",
    "        backtrack(last_solution=new_solution, c=c+1, r=r)\n",
    "\n",
    "        # If c == 0, i.e. all the previous opened have been closed; the \n",
    "        # only choice we have is to use '('.\n",
    "        if c > 0:\n",
    "            new_solution = last_solution.copy()\n",
    "            new_solution.append(')')\n",
    "            backtrack(last_solution=new_solution, c=c-1, r=r-1)\n",
    "\n",
    "    backtrack(last_solution=['('], c=1, r=n)\n",
    "    return solutions\n"
   ]
  },
  {
   "cell_type": "code",
   "execution_count": 178,
   "metadata": {},
   "outputs": [
    {
     "data": {
      "text/plain": [
       "['((()))', '(()())', '(())()', '()(())', '()()()']"
      ]
     },
     "execution_count": 178,
     "metadata": {},
     "output_type": "execute_result"
    }
   ],
   "source": [
    "generate_paranthesis(3)"
   ]
  },
  {
   "cell_type": "code",
   "execution_count": 404,
   "metadata": {},
   "outputs": [],
   "source": [
    "import copy"
   ]
  },
  {
   "cell_type": "code",
   "execution_count": 419,
   "metadata": {},
   "outputs": [],
   "source": [
    "def exist(board: List[List[int]], word: str) -> bool:\n",
    "    m, n = len(board), len(board[0])\n",
    "\n",
    "    def backtrack(x_pos, y_pos, visited, word_position) -> bool:\n",
    "        # We recursively search in each of the possible\n",
    "        # adjacent cell: up, down, left, right.\n",
    "\n",
    "        # If we land at bactrack(?, ?, ?, word_position=len(word)), it implies\n",
    "        # we have found our answer.\n",
    "        if len(visited) == len(word):\n",
    "            return True\n",
    "\n",
    "        # Check all the conditions why we should be visiting this node\n",
    "        if (\n",
    "            (x_pos < 0)\n",
    "            or (x_pos >= m)\n",
    "            or (y_pos < 0)\n",
    "            or (y_pos >= n)\n",
    "            or ((x_pos, y_pos) in visited)\n",
    "            or (board[x_pos][y_pos] != word[word_position])\n",
    "        ):\n",
    "            return False\n",
    "\n",
    "        # Mark this cell visited\n",
    "        visited.add((x_pos, y_pos))\n",
    "\n",
    "        up = backtrack(\n",
    "            x_pos=x_pos + 1,\n",
    "            y_pos=y_pos,\n",
    "            visited=visited.copy(),\n",
    "            word_position=word_position + 1,\n",
    "        )\n",
    "        if up:\n",
    "            return True\n",
    "\n",
    "        down = backtrack(\n",
    "            x_pos=x_pos - 1,\n",
    "            y_pos=y_pos,\n",
    "            visited=visited.copy(),\n",
    "            word_position=word_position + 1,\n",
    "        )\n",
    "        if down:\n",
    "            return True\n",
    "\n",
    "        left = backtrack(\n",
    "            x_pos=x_pos,\n",
    "            y_pos=y_pos + 1,\n",
    "            visited=visited.copy(),\n",
    "            word_position=word_position + 1,\n",
    "        )\n",
    "        if left:\n",
    "            return True\n",
    "\n",
    "        right = backtrack(\n",
    "            x_pos=x_pos,\n",
    "            y_pos=y_pos - 1,\n",
    "            visited=visited.copy(),\n",
    "            word_position=word_position + 1,\n",
    "        )\n",
    "        if right:\n",
    "            return True\n",
    "\n",
    "        return False\n",
    "\n",
    "    for i in range(m):\n",
    "        for j in range(n):\n",
    "            print(\"Starting: \", i, j)\n",
    "            exists = backtrack(x_pos=i, y_pos=j, visited=set(), word_position=0)\n",
    "            if exists:\n",
    "                return True\n",
    "\n",
    "    return False"
   ]
  },
  {
   "cell_type": "code",
   "execution_count": 420,
   "metadata": {},
   "outputs": [
    {
     "name": "stdout",
     "output_type": "stream",
     "text": [
      "Starting:  0 0\n"
     ]
    },
    {
     "data": {
      "text/plain": [
       "True"
      ]
     },
     "execution_count": 420,
     "metadata": {},
     "output_type": "execute_result"
    }
   ],
   "source": [
    "exist(\n",
    "    board=[[\"A\",\"B\",\"C\",\"E\"],[\"S\",\"F\",\"E\",\"S\"],[\"A\",\"D\",\"E\",\"E\"]],\n",
    "    word=\"ABCESEEE\",\n",
    ")"
   ]
  },
  {
   "cell_type": "code",
   "execution_count": 425,
   "metadata": {},
   "outputs": [],
   "source": [
    "import heapq\n",
    "\n",
    "\n",
    "def k_smallest_pairs_brute(nums1: List[int], nums2: List[int], k: int)-> List[List[int]]:\n",
    "    k_smallest = []\n",
    "\n",
    "    sum_heap = []\n",
    "    for i in range(len(nums1)):\n",
    "        for j in range(len(nums2)):\n",
    "            heapq.heappush(sum_heap, (nums1[i] + nums2[j], [i, j]))\n",
    "\n",
    "    # Get the top k smallest\n",
    "    for _ in range(k):\n",
    "        next_smallest = heapq.heappop(sum_heap)[1]\n",
    "        k_smallest.append([nums1[next_smallest[0]], nums2[next_smallest[1]]])\n",
    "    return k_smallest\n"
   ]
  },
  {
   "cell_type": "code",
   "execution_count": 428,
   "metadata": {},
   "outputs": [
    {
     "data": {
      "text/plain": [
       "[[1, 2], [1, 4], [1, 6]]"
      ]
     },
     "execution_count": 428,
     "metadata": {},
     "output_type": "execute_result"
    }
   ],
   "source": [
    "k_smallest_pairs_brute(nums1 = [1,7,11], nums2 = [2,4,6], k = 3)"
   ]
  },
  {
   "cell_type": "code",
   "execution_count": 453,
   "metadata": {},
   "outputs": [],
   "source": [
    "def k_smallest_pairs_greedy(nums1: List[int], nums2: List[int], k: int) -> List[List[int]]:\n",
    "    \"\"\"\n",
    "    We will maintain a max heap of k elements. When inserting \n",
    "    a new element, we check if its smaller then the head. If it is\n",
    "    we insert it into the heap and also pop if the size of the heap\n",
    "    gets bigger than k. If the element is bigger then the root, we \n",
    "    stop iterating.\n",
    "    \"\"\"\n",
    "    sum_heap = []\n",
    "\n",
    "    for i in range(len(nums1)):\n",
    "        for j in range(len(nums2)):\n",
    "            curr_sum = -(nums1[i] + nums2[j])\n",
    "\n",
    "            if (len(sum_heap) < k):\n",
    "                heapq.heappush(sum_heap, (curr_sum, [nums1[i], nums2[j]])) \n",
    "            else:\n",
    "                if curr_sum <= sum_heap[0][0]:\n",
    "                    break\n",
    "                else:\n",
    "                    heapq.heappush(sum_heap, (curr_sum, [nums1[i], nums2[j]]))\n",
    "                    heapq.heappop(sum_heap)\n",
    "\n",
    "    res = [ele[1] for ele in sum_heap]\n",
    "    return res\n"
   ]
  },
  {
   "cell_type": "code",
   "execution_count": 454,
   "metadata": {},
   "outputs": [
    {
     "data": {
      "text/plain": [
       "[[1, 6], [1, 2], [1, 4]]"
      ]
     },
     "execution_count": 454,
     "metadata": {},
     "output_type": "execute_result"
    }
   ],
   "source": [
    "k_smallest_pairs_greedy(nums1 = [1,7,11], nums2 = [2,4,6], k = 3)"
   ]
  },
  {
   "cell_type": "code",
   "execution_count": 455,
   "metadata": {},
   "outputs": [
    {
     "data": {
      "text/plain": [
       "[[1, 1], [1, 1]]"
      ]
     },
     "execution_count": 455,
     "metadata": {},
     "output_type": "execute_result"
    }
   ],
   "source": [
    "k_smallest_pairs_greedy(nums1 = [1,1,2], nums2 = [1,2,3], k = 2)"
   ]
  },
  {
   "cell_type": "code",
   "execution_count": 471,
   "metadata": {},
   "outputs": [],
   "source": [
    "def k_smallest_pairs(nums1, nums2, k):\n",
    "    pairs_remaining = k\n",
    "\n",
    "    results = []\n",
    "    min_sum_heap = []\n",
    "\n",
    "    # The sum of first two elements is always going to be the smallest\n",
    "    # as the lists are sortd in non-decreasing order.\n",
    "    i, j = 0, 0\n",
    "    results.append((i, j))\n",
    "\n",
    "    visited = set()\n",
    "    visited.add((i, j))\n",
    "    # Since one pair has already been added we now need k - 1 pairs.\n",
    "    while pairs_remaining > 1:\n",
    "        if ((i+1) < len(nums1)) and ((i+1, j) not in visited):\n",
    "            heapq.heappush(min_sum_heap, (nums1[i+1] + nums2[j], i+1, j))\n",
    "            visited.add((i+1, j))\n",
    "\n",
    "        if ((j+1) < len(nums2)) and ((i, j+1) not in visited):\n",
    "            heapq.heappush(min_sum_heap, (nums1[i] + nums2[j+1], i, j+1))\n",
    "            visited.add((i, j+1))\n",
    "\n",
    "        # Choose the next smallest sum and update the indices\n",
    "        next_sum = heapq.heappop(min_sum_heap)\n",
    "\n",
    "        i, j = next_sum[1], next_sum[2]\n",
    "        results.append((i, j))\n",
    "\n",
    "        pairs_remaining -= 1\n",
    "\n",
    "    return [[nums1[x], nums2[y]] for (x, y) in results]"
   ]
  },
  {
   "cell_type": "code",
   "execution_count": 472,
   "metadata": {},
   "outputs": [
    {
     "data": {
      "text/plain": [
       "[[1, 2], [1, 4], [1, 6]]"
      ]
     },
     "execution_count": 472,
     "metadata": {},
     "output_type": "execute_result"
    }
   ],
   "source": [
    "k_smallest_pairs( nums1 = [1,7,11], nums2 = [2,4,6], k = 3)"
   ]
  },
  {
   "cell_type": "code",
   "execution_count": 473,
   "metadata": {},
   "outputs": [
    {
     "data": {
      "text/plain": [
       "[[1, 1], [1, 1]]"
      ]
     },
     "execution_count": 473,
     "metadata": {},
     "output_type": "execute_result"
    }
   ],
   "source": [
    "k_smallest_pairs(nums1 = [1,1,2], nums2 = [1,2,3], k = 2)"
   ]
  },
  {
   "cell_type": "code",
   "execution_count": 50,
   "metadata": {},
   "outputs": [],
   "source": [
    "def max_sum_path_at_node(node) -> int:\n",
    "    global_max = float('-inf')\n",
    "    def dfs(node, last_sum, global_max) -> int:\n",
    "        if node is not None:\n",
    "\n",
    "            # Kadane's algorithm\n",
    "            last_sum = max(last_sum + node.val, node.val)\n",
    "            if last_sum > global_max:\n",
    "                global_max = last_sum\n",
    "\n",
    "            max_left = dfs(node.left, last_sum=last_sum, global_max=global_max)\n",
    "            max_right = dfs(node.right, last_sum=last_sum, global_max=global_max)\n",
    "            global_max = max(max_left, max_right)\n",
    "        return global_max\n",
    "        \n",
    "    result = dfs(node, last_sum=0, global_max=global_max)\n",
    "    return result\n",
    "    "
   ]
  },
  {
   "cell_type": "code",
   "execution_count": 52,
   "metadata": {},
   "outputs": [
    {
     "data": {
      "text/plain": [
       "32"
      ]
     },
     "execution_count": 52,
     "metadata": {},
     "output_type": "execute_result"
    }
   ],
   "source": [
    "root = TreeNode(10)\n",
    "root.left = TreeNode(2)\n",
    "root.right = TreeNode(10)\n",
    "root.left.left = TreeNode(20)\n",
    "root.left.right = TreeNode(1)\n",
    "root.right.right = TreeNode(-25)\n",
    "root.right.right.left = TreeNode(3)\n",
    "root.right.right.right = TreeNode(4)\n",
    "\n",
    "max_sum_path_at_node(root)"
   ]
  },
  {
   "cell_type": "code",
   "execution_count": 59,
   "metadata": {},
   "outputs": [],
   "source": [
    "def max_sum_path_util(root):\n",
    "    # Base case\n",
    "    if root is None:\n",
    "        return 0\n",
    "    \n",
    "    # We recursively compute the max sum ending on the \n",
    "    # left and right child respectively.\n",
    "    left_max_sum = max_sum_path_util(root.left)\n",
    "    right_max_sum = max_sum_path_util(root.right)\n",
    "\n",
    "    # There are 4 ways from here:\n",
    "    # 1. We include the root in the left chain\n",
    "    # 2. We include the root in the right chain\n",
    "    # 3. We use the root solo\n",
    "    # 4. We use the chain going from left to right\n",
    "    max_single_left_right = max(max(left_max_sum, right_max_sum) + root.val, root.val)\n",
    "    max_top = max(left_max_sum + right_max_sum + root.val, max_single_left_right)\n",
    "\n",
    "    # This is a way to keep track of the global maximum (since our path can\n",
    "    # start and end at any index)\n",
    "    max_sum_path_util.res = max(max_sum_path_util.res, max_top)\n",
    "\n",
    "    return max_single_left_right\n",
    "\n",
    "def max_sum_path(root):\n",
    "    \"\"\"Given a binary tree, find the maximum path sum. \n",
    "    The path may start and end at any node in the tree.\n",
    "    \"\"\"\n",
    "    max_sum_path_util.res = float('-inf')\n",
    "\n",
    "    max_sum_path_util(root)\n",
    "    return max_sum_path_util.res"
   ]
  },
  {
   "cell_type": "code",
   "execution_count": 60,
   "metadata": {},
   "outputs": [
    {
     "name": "stdout",
     "output_type": "stream",
     "text": [
      "Max path sum is  42\n"
     ]
    }
   ],
   "source": [
    "root = TreeNode(10)\n",
    "root.left = TreeNode(2)\n",
    "root.right = TreeNode(10)\n",
    "root.left.left = TreeNode(20)\n",
    "root.left.right = TreeNode(1)\n",
    "root.right.right = TreeNode(-25)\n",
    "root.right.right.left = TreeNode(3)\n",
    "root.right.right.right = TreeNode(4)\n",
    "\n",
    "# Function call\n",
    "print(\"Max path sum is \", max_sum_path(root))"
   ]
  },
  {
   "cell_type": "markdown",
   "metadata": {},
   "source": [
    "## Subarray sum\n"
   ]
  },
  {
   "cell_type": "code",
   "execution_count": null,
   "metadata": {},
   "outputs": [],
   "source": [
    "def subarray_sum()"
   ]
  }
 ],
 "metadata": {
  "kernelspec": {
   "display_name": "learning",
   "language": "python",
   "name": "python3"
  },
  "language_info": {
   "codemirror_mode": {
    "name": "ipython",
    "version": 3
   },
   "file_extension": ".py",
   "mimetype": "text/x-python",
   "name": "python",
   "nbconvert_exporter": "python",
   "pygments_lexer": "ipython3",
   "version": "3.8.18"
  }
 },
 "nbformat": 4,
 "nbformat_minor": 2
}
