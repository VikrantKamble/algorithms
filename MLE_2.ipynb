{
 "cells": [
  {
   "cell_type": "code",
   "execution_count": 6,
   "metadata": {},
   "outputs": [
    {
     "name": "stdout",
     "output_type": "stream",
     "text": [
      "[[1, 2], [3, 2], [2, 4], [4, 1]]\n"
     ]
    }
   ],
   "source": [
    "# Question: Single-Threaded CPU\n",
    "\n",
    "# You are given n​​​​​​ tasks labeled from 0 to n - 1 represented by a 2D integer array tasks, where tasks[i] = [enqueueTime_i, processingTime_i] means that the i​​​​​​th​​​​ task will be available to process at enqueueTime_i and will take processingTime_i to finish processing.\n",
    "# You have a single-threaded CPU that can process at most one task at a time and will act in the following way:\n",
    "\n",
    "# If the CPU is idle and there are no available tasks to process, the CPU remains idle.\n",
    "# If the CPU is idle and there are available tasks, the CPU will choose the one with the shortest processing time.\n",
    "# If multiple tasks have the same shortest processing time, it will choose the task with the smallest index.\n",
    "# Once a task is started, the CPU will process the entire task without stopping.\n",
    "# The CPU can finish a task then start a new one instantly.\n",
    "\n",
    "# Return the order in which the CPU will process the tasks.\n",
    "# Constraints:\n",
    "# tasks.length == n\n",
    "# 1 <= n <= 10^5\n",
    "# 1 <= enqueueTime_i, processingTime_i <= 10^9\n",
    "\n",
    "tasks = [[1,2],[2,4],[3,2],[4,1]]\n",
    "# Output: [0,2,3,1]\n",
    "# 0: \n",
    "# 1: [1,2] -> t=3 \n",
    "# 3: [[2,4], [3,2]] -> t=5\n",
    "# 5: [[2,4], [4,1]] -> t=6\n",
    "# 6: [2,4]\n",
    "\n",
    "\n",
    "from typing import List\n",
    "\n",
    "def get_order_from_sorted(sorted_tasks: List[List]) -> List:\n",
    "    \n",
    "    task_to_accumulate_index = 1\n",
    "    \n",
    "    curr_end_time = sorted_tasks[0][1] + sorted_tasks[0][0]\n",
    "    queue = [sorted_tasks[0]]  # I will make this a min heap on second index (processing time)\n",
    "    \n",
    "    completed_tasks = []\n",
    "    while len(queue) > 0:\n",
    "        \n",
    "        # Do the first task available\n",
    "        recent_task = queue.pop(0)\n",
    "\n",
    "        curr_end_time = curr_end_time + recent_task[1]\n",
    "        completed_tasks.append(recent_task)\n",
    "        \n",
    "        tasks_to_accumulate = []\n",
    "        while task_to_accumulate_index < len(sorted_tasks):\n",
    "            \n",
    "            task_to_accumulate = sorted_tasks[task_to_accumulate_index]\n",
    "            \n",
    "            if task_to_accumulate[0] <= curr_end_time:\n",
    "                tasks_to_accumulate.append(task_to_accumulate)\n",
    "                task_to_accumulate_index += 1\n",
    "            else:\n",
    "                break\n",
    "                \n",
    "        queue.extend(tasks_to_accumulate)\n",
    "        queue = sorted(queue, key=lambda x: x[1])\n",
    "\n",
    "    print(completed_tasks)\n",
    "                \n",
    "        \n",
    "get_order_from_sorted([[1,2],[2,4],[3,2],[4,1]])\n",
    "                \n",
    "            \n"
   ]
  },
  {
   "cell_type": "code",
   "execution_count": null,
   "metadata": {},
   "outputs": [],
   "source": []
  },
  {
   "cell_type": "code",
   "execution_count": 28,
   "metadata": {},
   "outputs": [],
   "source": [
    "def new_solution(sorted_tasks):\n",
    "    min_heap = []\n",
    "    pos = 0\n",
    "\n",
    "    completed_tasks = []\n",
    "    curr_end_time = 0\n",
    "\n",
    "    while True:\n",
    "        if len(min_heap) == 0:\n",
    "            given_task = sorted_tasks[pos]\n",
    "            min_heap.append(given_task)\n",
    "\n",
    "            curr_end_time = given_task[0] + given_task[1]\n",
    "            pos += 1\n",
    "\n",
    "        else:\n",
    "            \n",
    "            task_being_done = min_heap.pop(0)\n",
    "            completed_tasks.append(task_being_done)\n",
    "\n",
    "            curr_end_time = curr_end_time + task_being_done[1]\n",
    "\n",
    "            while pos < len(sorted_tasks):\n",
    "\n",
    "                if sorted_tasks[pos][0] <= curr_end_time:\n",
    "                    min_heap.append(sorted_tasks[pos])\n",
    "                    pos += 1\n",
    "                else:\n",
    "                    break\n",
    "            min_heap = sorted(min_heap, key=lambda x: x[1])\n",
    "            \n",
    "        if len(completed_tasks) == len(sorted_tasks):\n",
    "            return completed_tasks\n"
   ]
  },
  {
   "cell_type": "code",
   "execution_count": 30,
   "metadata": {},
   "outputs": [
    {
     "data": {
      "text/plain": [
       "[[1, 2], [4, 1], [3, 2], [2, 4], [12, 3]]"
      ]
     },
     "execution_count": 30,
     "metadata": {},
     "output_type": "execute_result"
    }
   ],
   "source": [
    "new_solution([[1,2],[2,4],[3,2],[4,1], [12, 3]])"
   ]
  },
  {
   "cell_type": "code",
   "execution_count": 31,
   "metadata": {},
   "outputs": [],
   "source": [
    "import heapq"
   ]
  },
  {
   "cell_type": "code",
   "execution_count": 42,
   "metadata": {},
   "outputs": [],
   "source": [
    "heap = []\n",
    "heapq.heapify([])"
   ]
  },
  {
   "cell_type": "code",
   "execution_count": 43,
   "metadata": {},
   "outputs": [],
   "source": [
    "heapq.heappush(heap, 3)\n",
    "heapq.heappush(heap, 13)\n",
    "heapq.heappush(heap, 2)\n",
    "heapq.heappush(heap, 5)\n",
    "heapq.heappush(heap, 7)\n",
    "heapq.heappush(heap, 1)"
   ]
  },
  {
   "cell_type": "code",
   "execution_count": 44,
   "metadata": {},
   "outputs": [
    {
     "data": {
      "text/plain": [
       "1"
      ]
     },
     "execution_count": 44,
     "metadata": {},
     "output_type": "execute_result"
    }
   ],
   "source": [
    "heap[0]"
   ]
  },
  {
   "cell_type": "code",
   "execution_count": 142,
   "metadata": {},
   "outputs": [],
   "source": [
    "def total_cost(costs: List[int], k: int, candidates: int) -> int:\n",
    "    n = len(costs)\n",
    "\n",
    "    left_heap = []\n",
    "    right_heap = []\n",
    "\n",
    "    for i in range(candidates):\n",
    "        heapq.heappush(left_heap, costs[i])\n",
    "        \n",
    "    for p in range(candidates):\n",
    "        j = n - p - 1\n",
    "        if j > i:\n",
    "            heapq.heappush(right_heap, costs[j])\n",
    "    \n",
    "    # total_length = n\n",
    "    i += 1\n",
    "    j -= 1\n",
    "\n",
    "    count, total_cost = 0, 0\n",
    "    while count < k:\n",
    "\n",
    "        l_val = left_heap[0] if len(left_heap) > 0 else float('inf')\n",
    "        r_val = right_heap[0] if len(right_heap) > 0 else float('inf')\n",
    "\n",
    "        if l_val <= r_val:\n",
    "            res = heapq.heappop(left_heap)\n",
    "            total_cost += res\n",
    "\n",
    "            if i <= j:\n",
    "                heapq.heappush(left_heap, costs[i])\n",
    "                i += 1\n",
    "        else:\n",
    "            res = heapq.heappop(right_heap)\n",
    "            total_cost += res\n",
    "\n",
    "            if j >= i:\n",
    "                heapq.heappush(right_heap, costs[j])\n",
    "                j -= 1\n",
    "\n",
    "        \n",
    "        count += 1\n",
    "\n",
    "    return total_cost\n",
    "\n"
   ]
  },
  {
   "cell_type": "code",
   "execution_count": 143,
   "metadata": {},
   "outputs": [
    {
     "data": {
      "text/plain": [
       "11"
      ]
     },
     "execution_count": 143,
     "metadata": {},
     "output_type": "execute_result"
    }
   ],
   "source": [
    "total_cost(costs = [17,12,10,2,7,2,11,20,8], k = 3, candidates = 4)"
   ]
  },
  {
   "cell_type": "code",
   "execution_count": 144,
   "metadata": {},
   "outputs": [
    {
     "data": {
      "text/plain": [
       "4"
      ]
     },
     "execution_count": 144,
     "metadata": {},
     "output_type": "execute_result"
    }
   ],
   "source": [
    "total_cost(costs = [1,2,4,1], k = 3, candidates = 3)"
   ]
  },
  {
   "cell_type": "code",
   "execution_count": 145,
   "metadata": {},
   "outputs": [
    {
     "data": {
      "text/plain": [
       "829"
      ]
     },
     "execution_count": 145,
     "metadata": {},
     "output_type": "execute_result"
    }
   ],
   "source": [
    "total_cost([69,10,63,24,1,71,55,46,4,61,78,21,85,52,83,77,42,21,73,2,80,99,98,89,55,94,63,50,43,62,14], 21, 31)"
   ]
  },
  {
   "cell_type": "code",
   "execution_count": 146,
   "metadata": {},
   "outputs": [
    {
     "data": {
      "text/plain": [
       "11"
      ]
     },
     "execution_count": 146,
     "metadata": {},
     "output_type": "execute_result"
    }
   ],
   "source": [
    "total_cost([17,12,10,2,7,2,11,20,8], 3, 4)"
   ]
  },
  {
   "cell_type": "code",
   "execution_count": 148,
   "metadata": {},
   "outputs": [
    {
     "data": {
      "text/plain": [
       "23"
      ]
     },
     "execution_count": 148,
     "metadata": {},
     "output_type": "execute_result"
    }
   ],
   "source": [
    "len([92, 91, 53,10,24,25,20,92,73,63,51,65,87,6,17,32,14,42,46,65,43,9,75])"
   ]
  },
  {
   "cell_type": "code",
   "execution_count": 149,
   "metadata": {},
   "outputs": [
    {
     "data": {
      "text/plain": [
       "52"
      ]
     },
     "execution_count": 149,
     "metadata": {},
     "output_type": "execute_result"
    }
   ],
   "source": [
    "total_cost([69,10,63,24,1,71,55,46,4,61,78,21,85,52,83,77,42,21,73,2,80,99,98,89,55,94,63,50,43,62,14], 6, 31)"
   ]
  },
  {
   "cell_type": "code",
   "execution_count": 234,
   "metadata": {},
   "outputs": [],
   "source": [
    "def get_order(tasks: List[List[int]]) -> List[int]:\n",
    "    n = len(tasks)\n",
    "\n",
    "    # We will need to flip the order, since the implementation\n",
    "    # of minheap in python uses the first element, while in our case\n",
    "    # we want to use the processing time, which is the second element.\n",
    "    # We will also add in the indices as an element, since that is what we want \n",
    "    # to return.\n",
    "    sorted_tasks = [[i[1][1], i[0], i[1][0]] for i in sorted(enumerate(tasks), \n",
    "                                                             key=lambda x: x[1][0])]\n",
    "\n",
    "    # NOTE: sorted_task element is (processing_time, index, enqueue time)\n",
    "    end_time = 0\n",
    "\n",
    "    # We will maintain this as a minheap on processing time, and on the index if\n",
    "    # two tasks have the same processing time.\n",
    "    available_tasks = []\n",
    "\n",
    "    # We will maintain a list of completed tasks\n",
    "    completed_tasks = []\n",
    "\n",
    "    j = 0\n",
    "    while True:\n",
    "        # We will push to available tasks, all tasks \n",
    "        # whose enqueue time is less than the end_time\n",
    "        while j < n:\n",
    "            if sorted_tasks[j][2] <= end_time:\n",
    "                heapq.heappush(available_tasks, sorted_tasks[j])\n",
    "                j += 1\n",
    "            else:\n",
    "                break\n",
    "\n",
    "        if len(available_tasks) == 0:\n",
    "            if j == n:\n",
    "                # This ensures that we break out the loop, once\n",
    "                # there are no available tasks to be done and also \n",
    "                # there are no remaining tasks.\n",
    "                break\n",
    "            else:\n",
    "                # We fast-forward the end time to the \"enqueue time\" of the next task\n",
    "                end_time = sorted_tasks[j][2]\n",
    "        else:\n",
    "            # We chose the next task\n",
    "            task_being_done = heapq.heappop(available_tasks)\n",
    "\n",
    "            # We finish this task and update the results\n",
    "            completed_tasks.append(task_being_done[1])\n",
    "\n",
    "            # This is the time when the CPU will finish executing the task.\n",
    "            # We update the end time accordingly (using the processing time)\n",
    "            end_time += task_being_done[0]\n",
    "\n",
    "    return completed_tasks\n"
   ]
  },
  {
   "cell_type": "code",
   "execution_count": 235,
   "metadata": {},
   "outputs": [
    {
     "data": {
      "text/plain": [
       "[6, 1, 2, 9, 4, 10, 0, 11, 5, 13, 3, 8, 12, 7]"
      ]
     },
     "execution_count": 235,
     "metadata": {},
     "output_type": "execute_result"
    }
   ],
   "source": [
    "get_order([[19,13],[16,9],[21,10],[32,25],[37,4],[49,24],[2,15],[38,41],[37,34],[33,6],[45,4],[18,18],[46,39],[12,24]])"
   ]
  },
  {
   "cell_type": "code",
   "execution_count": 267,
   "metadata": {},
   "outputs": [],
   "source": [
    "def is_valid_solution(board: List[List[str]]) -> bool:\n",
    "    row_sets = [set() for i in range(9)]\n",
    "    column_sets = [set() for i in range(9)]\n",
    "    cell_sets = [set() for i in range(9)]\n",
    "\n",
    "    for i in range(9):\n",
    "        for j in range(9):\n",
    "            this_ele = board[i][j]\n",
    "\n",
    "            if this_ele != \".\":\n",
    "                this_ele = board[i][j]\n",
    "\n",
    "                # Check row\n",
    "                if this_ele in row_sets[i]:\n",
    "                    return False\n",
    "                else:\n",
    "                    row_sets[i].add(this_ele)\n",
    "\n",
    "                # Check column\n",
    "                if this_ele in column_sets[j]:\n",
    "                    return False\n",
    "                else:\n",
    "                    column_sets[j].add(this_ele)\n",
    "\n",
    "                # Check cell\n",
    "                cell_num = 3 * (i // 3) + j // 3\n",
    "                if this_ele in cell_sets[cell_num]:\n",
    "                    return False\n",
    "                else:\n",
    "                    cell_sets[cell_num].add(this_ele)\n",
    "\n",
    "    return True\n",
    "                \n"
   ]
  },
  {
   "cell_type": "code",
   "execution_count": 268,
   "metadata": {},
   "outputs": [
    {
     "data": {
      "text/plain": [
       "False"
      ]
     },
     "execution_count": 268,
     "metadata": {},
     "output_type": "execute_result"
    }
   ],
   "source": [
    "board = [[\"8\",\"3\",\".\",\".\",\"7\",\".\",\".\",\".\",\".\"]\n",
    ",[\"6\",\".\",\".\",\"1\",\"9\",\"5\",\".\",\".\",\".\"]\n",
    ",[\".\",\"9\",\"8\",\".\",\".\",\".\",\".\",\"6\",\".\"]\n",
    ",[\"8\",\".\",\".\",\".\",\"6\",\".\",\".\",\".\",\"3\"]\n",
    ",[\"4\",\".\",\".\",\"8\",\".\",\"3\",\".\",\".\",\"1\"]\n",
    ",[\"7\",\".\",\".\",\".\",\"2\",\".\",\".\",\".\",\"6\"]\n",
    ",[\".\",\"6\",\".\",\".\",\".\",\".\",\"2\",\"8\",\".\"]\n",
    ",[\".\",\".\",\".\",\"4\",\"1\",\"9\",\".\",\".\",\"5\"]\n",
    ",[\".\",\".\",\".\",\".\",\"8\",\".\",\".\",\"7\",\"9\"]]\n",
    "is_valid_solution(board)"
   ]
  },
  {
   "cell_type": "code",
   "execution_count": 323,
   "metadata": {},
   "outputs": [],
   "source": [
    "def sort_colors(nums: List[int]) -> None:\n",
    "    i = 0\n",
    "    j = len(nums) - 1\n",
    "\n",
    "    i_look = 0\n",
    "\n",
    "    while i_look <= j:\n",
    "        # If we find 0, we put in the first available position\n",
    "        # and update the i pointer.\n",
    "        if nums[i_look] == 0:\n",
    "            nums[i], nums[i_look] = nums[i_look], nums[i]\n",
    "            i += 1\n",
    "            i_look += 1\n",
    "        # If we find 2, put it in the last available position.\n",
    "        # In this case we don't update i_look, as the current \n",
    "        # element that we swapped with 2, might actually be 0\n",
    "        elif (nums[i_look] == 2) and (i_look <= j):\n",
    "            nums[j], nums[i_look] = nums[i_look], nums[j]\n",
    "            j -= 1\n",
    "        else:\n",
    "            i_look += 1\n"
   ]
  },
  {
   "cell_type": "code",
   "execution_count": 322,
   "metadata": {},
   "outputs": [
    {
     "name": "stdout",
     "output_type": "stream",
     "text": [
      "[0, 0, 0, 0, 0, 0, 0, 0, 1, 1, 1, 1, 1, 2, 2, 2, 2, 2, 2]\n"
     ]
    }
   ],
   "source": [
    "nums = [2, 1, 0, 1, 0, 2, 0, 1, 0, 2, 2, 2, 1, 0, 0, 1, 0, 2, 0]\n",
    "sort_colors(nums)\n",
    "print(nums)"
   ]
  },
  {
   "cell_type": "code",
   "execution_count": 324,
   "metadata": {},
   "outputs": [
    {
     "data": {
      "text/plain": [
       "'ab'"
      ]
     },
     "execution_count": 324,
     "metadata": {},
     "output_type": "execute_result"
    }
   ],
   "source": [
    "\"a\" + \"b\""
   ]
  },
  {
   "cell_type": "code",
   "execution_count": 376,
   "metadata": {},
   "outputs": [],
   "source": [
    "def num_decodings(s: str) -> int:\n",
    "    chars = list(s)\n",
    "\n",
    "    dp = [0] * (len(chars) + 1)\n",
    "\n",
    "    # Base case\n",
    "    dp[-1] = 1\n",
    "\n",
    "    # Other base case\n",
    "    if chars[-1] == \"0\":\n",
    "        dp[-2] = 0\n",
    "    else:\n",
    "        dp[-2] = 1\n",
    "\n",
    "    for j in range(len(chars) - 2, -1, -1):\n",
    "        if chars[j] == '0':\n",
    "            dp[j] = 0\n",
    "        elif int(chars[j] + chars[j+1]) <= 26:\n",
    "            dp[j] = dp[j + 1] + dp[j + 2]\n",
    "        else:\n",
    "            dp[j] = dp[j + 1]\n",
    "\n",
    "    return dp[0]\n",
    "\n"
   ]
  },
  {
   "cell_type": "code",
   "execution_count": 377,
   "metadata": {},
   "outputs": [
    {
     "data": {
      "text/plain": [
       "0"
      ]
     },
     "execution_count": 377,
     "metadata": {},
     "output_type": "execute_result"
    }
   ],
   "source": [
    "num_decodings(\"0\")"
   ]
  },
  {
   "cell_type": "code",
   "execution_count": 370,
   "metadata": {},
   "outputs": [
    {
     "data": {
      "text/plain": [
       "['1', '1', '2', '4']"
      ]
     },
     "execution_count": 370,
     "metadata": {},
     "output_type": "execute_result"
    }
   ],
   "source": [
    "list(\"1124\")"
   ]
  },
  {
   "cell_type": "code",
   "execution_count": 412,
   "metadata": {},
   "outputs": [],
   "source": [
    "from typing import Optional\n",
    "\n",
    "class TreeNode:\n",
    "    def __init__(self, val, left=None, right=None):\n",
    "        self.val = val\n",
    "        self.left = left\n",
    "        self.right = right\n",
    "\n",
    "def is_valid_bst(root: Optional[TreeNode]) -> bool:\n",
    "    # A DFS on a BST should give an array of sorted values\n",
    "    vals = []\n",
    "    def dfs(node):\n",
    "        if node is not None:\n",
    "            dfs(node.left)\n",
    "            vals.append(node.val)\n",
    "            dfs(node.right)\n",
    "\n",
    "    dfs(root)\n",
    "\n",
    "    if len(vals) == 0:\n",
    "        return True\n",
    "    \n",
    "    this_ele = vals[0]\n",
    "    for i in range(1, len(vals)):\n",
    "        if vals[i] < this_ele:\n",
    "            return False\n",
    "        else:\n",
    "            this_ele = vals[i]\n",
    "\n",
    "    return True"
   ]
  },
  {
   "cell_type": "code",
   "execution_count": 413,
   "metadata": {},
   "outputs": [],
   "source": [
    "node_1 = TreeNode(5)\n",
    "node_2 = TreeNode(1)\n",
    "node_3 = TreeNode(4)\n",
    "node_4 = TreeNode(3)\n",
    "node_5 = TreeNode(6)\n",
    "\n",
    "node_1.left = node_2\n",
    "node_1.right = node_3\n",
    "node_3.left = node_4\n",
    "node_4.right = node_5"
   ]
  },
  {
   "cell_type": "code",
   "execution_count": 414,
   "metadata": {},
   "outputs": [
    {
     "name": "stdout",
     "output_type": "stream",
     "text": [
      "[1, 5, 3, 6, 4]\n"
     ]
    },
    {
     "data": {
      "text/plain": [
       "False"
      ]
     },
     "execution_count": 414,
     "metadata": {},
     "output_type": "execute_result"
    }
   ],
   "source": [
    "is_valid_bst(node_1)"
   ]
  },
  {
   "cell_type": "code",
   "execution_count": 447,
   "metadata": {},
   "outputs": [],
   "source": [
    "def max_profits(prices: List[int]) -> int:\n",
    "    profits = 0\n",
    "    for pos in range(0, len(prices) - 1):\n",
    "        delta = prices[pos + 1] - prices[pos]\n",
    "        if delta > 0:\n",
    "            profits += delta\n",
    "    return profits\n",
    "             "
   ]
  },
  {
   "cell_type": "code",
   "execution_count": 448,
   "metadata": {},
   "outputs": [
    {
     "name": "stdout",
     "output_type": "stream",
     "text": [
      "7\n",
      "4\n",
      "0\n"
     ]
    }
   ],
   "source": [
    "print(max_profits(prices = [7,1,5,3,6,4]))\n",
    "print(max_profits(prices = [1,2,3,4,5]))\n",
    "print(max_profits(prices = [7,6,4,3,1]))"
   ]
  },
  {
   "cell_type": "code",
   "execution_count": null,
   "metadata": {},
   "outputs": [],
   "source": []
  }
 ],
 "metadata": {
  "kernelspec": {
   "display_name": "learning",
   "language": "python",
   "name": "python3"
  },
  "language_info": {
   "codemirror_mode": {
    "name": "ipython",
    "version": 3
   },
   "file_extension": ".py",
   "mimetype": "text/x-python",
   "name": "python",
   "nbconvert_exporter": "python",
   "pygments_lexer": "ipython3",
   "version": "3.8.18"
  }
 },
 "nbformat": 4,
 "nbformat_minor": 2
}
